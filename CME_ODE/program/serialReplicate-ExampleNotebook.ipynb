{
 "cells": [
  {
   "cell_type": "markdown",
   "metadata": {},
   "source": [
    "### Notebook to Run Individual *in silico* JCVI-syn3A Simulations Serially (with example analysis)"
   ]
  },
  {
   "cell_type": "code",
   "execution_count": null,
   "metadata": {},
   "outputs": [],
   "source": [
    "# Import Lattice Microbes Software Suite (https://github.com/zanert2/Lattice_Microbes) modules\n",
    "import lm"
   ]
  },
  {
   "cell_type": "code",
   "execution_count": null,
   "metadata": {},
   "outputs": [],
   "source": [
    "### Set possible runtime and analysis arguments\n",
    "time = 4 # minutes\n",
    "restartTime = 1 # minutes"
   ]
  },
  {
   "cell_type": "markdown",
   "metadata": {},
   "source": [
    "## Use a bash shell magic to run a single simulation"
   ]
  },
  {
   "cell_type": "code",
   "execution_count": null,
   "metadata": {},
   "outputs": [],
   "source": [
    "%%bash\n",
    "\n",
    "### Simulation Arguments\n",
    "### -procid, the processID (i.e. 1,2,3 ...)\n",
    "### -t, the total simulation time (in minutes, cell cycle = 120 minutes to ensure simulation of full cell cycles)\n",
    "### -rs, the restart time (in minutes, default = 1)\n",
    "\n",
    "python3 MinCell_CMEODE.py -procid 1 -t 1  ### args (time should be 1 minute here, to set initial conditions)\n",
    "python3 MinCell_restart.py -procid 1 -t 4 -rs 1 ### args"
   ]
  },
  {
   "cell_type": "markdown",
   "metadata": {},
   "source": [
    "### Some simple Analysis to plot out individual species\n",
    "\n",
    "Documentation for analysis unctionality can be accessed via **'?myMethod'**\n",
    "\n",
    "*e.g* ?pp.openLMFile \n",
    "\n",
    "to return a docstring"
   ]
  },
  {
   "cell_type": "code",
   "execution_count": null,
   "metadata": {},
   "outputs": [],
   "source": [
    "# Import needed modules\n",
    "import numpy as np\n",
    "import sys\n",
    "import os\n",
    "import glob\n",
    "import lm as lm\n",
    "from pyLM import *\n",
    "\n",
    "from pySTDLM import PostProcessing as pp\n",
    "\n",
    "import pandas as pd\n",
    "\n",
    "import matplotlib.pyplot as plt\n",
    "%matplotlib inline"
   ]
  },
  {
   "cell_type": "code",
   "execution_count": null,
   "metadata": {},
   "outputs": [],
   "source": [
    "pp.openLMFile?"
   ]
  },
  {
   "cell_type": "code",
   "execution_count": null,
   "metadata": {},
   "outputs": [],
   "source": [
    "times=np.arange(0,time,1)\n",
    "numSims=1"
   ]
  },
  {
   "cell_type": "code",
   "execution_count": null,
   "metadata": {},
   "outputs": [],
   "source": [
    "# Sets sims folder to your current working directory ... you can modify this if needed\n",
    "os.chdir('..')\n",
    "simsFolder = os.getcwd()+'/simulations/'\n",
    "fn='out-1.lm'# siingle simulation file"
   ]
  },
  {
   "cell_type": "code",
   "execution_count": null,
   "metadata": {},
   "outputs": [],
   "source": [
    "# Get a list of all chemical species (genes, RNA, proteins etc.) tracked in the simulation\n",
    "fh = pp.openLMFile(simsFolder+fn)\n",
    "spec_list=pp.getSpecies(fh)"
   ]
  },
  {
   "cell_type": "code",
   "execution_count": null,
   "metadata": {},
   "outputs": [],
   "source": [
    "# Check that we are in the correct directory\n",
    "%%bash\n",
    "pwd"
   ]
  },
  {
   "cell_type": "code",
   "execution_count": null,
   "metadata": {},
   "outputs": [],
   "source": [
    "# Get traces of all cells\n",
    "def getTraces(sL,numSims,times):\n",
    "    fileList=[]\n",
    "    traceArr = np.zeros((numSims,len(sL),len(times)))\n",
    "    os.chdir(simsFolder)\n",
    "    for i, my_file in enumerate(glob.glob(\"*.csv\")):\n",
    "        print(my_file)\n",
    "        fileList.append(my_file)\n",
    "        df = pd.read_csv(str(my_file),header=0)\n",
    "        for j,time in enumerate(times):\n",
    "            if (j == 0):\n",
    "                startVal = 0\n",
    "                endVal=len(sL)\n",
    "            else:\n",
    "                startVal=((len(sL)+1)*j)\n",
    "                endVal=(len(sL)+1)*(j+1)-1\n",
    "            traceArr[i,:,j] = df[startVal:endVal]['0.0'][:]\n",
    "    return traceArr,fileList"
   ]
  },
  {
   "cell_type": "code",
   "execution_count": null,
   "metadata": {
    "scrolled": true
   },
   "outputs": [],
   "source": [
    "ta,fL = getTraces(spec_list,numSims,times)"
   ]
  },
  {
   "cell_type": "code",
   "execution_count": null,
   "metadata": {},
   "outputs": [],
   "source": [
    "# Set beginning and ending times for plottting\n",
    "startTime=0\n",
    "endTime=times[-1]"
   ]
  },
  {
   "cell_type": "code",
   "execution_count": null,
   "metadata": {},
   "outputs": [],
   "source": [
    "zeros = np.zeros((numSims,len(spec_list),len(times)))"
   ]
  },
  {
   "cell_type": "code",
   "execution_count": null,
   "metadata": {},
   "outputs": [],
   "source": [
    "# Plot a chemical species concentration\n",
    "species_list = ['M_atp_c']\n",
    "times = np.arange(startTime,endTime+1,1)\n",
    "\n",
    "specInd = spec_list.index(species_list[0])\n",
    "vInd=spec_list.index('CellV')\n",
    "print(specInd)\n",
    "# 1e-19 conversion factor since 'Volume' is stored as in 10^-19 L to give values of 335 for IC etc.\n",
    "conc = ta[:,specInd,startTime:endTime+1]*1000.0/(ta[:,vInd,startTime:endTime+1]*1e-19*6.022e23)\n",
    "\n",
    "plt.fill_between(times[:],np.percentile(conc,1,axis=0),np.percentile(conc,99,axis=0),alpha=0.3,label='1-99%',color='black')\n",
    "plt.fill_between(times[:],np.average(conc,axis=0)+np.std(conc,axis=0),np.maximum(np.average(conc,axis=0)-np.std(conc,axis=0),zeros[0,0,:]),alpha=0.5,label='Stdev',color='magenta')\n",
    "plt.plot(times[:],np.median(conc,axis=0),label='Average',color='red')\n",
    "\n",
    "plt.ylabel('Concentration (mM)',fontsize=14)\n",
    "plt.xlabel('Time (min)',fontsize=14)\n",
    "#plt.ylim(0,5)\n",
    "plt.legend(fontsize=14,loc='upper left')\n",
    "plt.title(species_list,fontsize=16)"
   ]
  },
  {
   "cell_type": "markdown",
   "metadata": {},
   "source": [
    "### Plot out Particle Number instead of concentration\n",
    "\n",
    "For example, let's look at the enzyme Fructose Bisphosphate Aldolase (*fba*, /JCVISYN3A_0131).\n",
    "\n",
    "As we can see, even after a few minutes several copies of this main glycolysis pathway enzyme are translated."
   ]
  },
  {
   "cell_type": "code",
   "execution_count": null,
   "metadata": {},
   "outputs": [],
   "source": [
    "# Get particle counts\n",
    "def getParts(ta,specInd,startTime,endTime):\n",
    "    parts=ta[:,specInd,startTime:endTime+1]\n",
    "    return parts"
   ]
  },
  {
   "cell_type": "code",
   "execution_count": null,
   "metadata": {},
   "outputs": [],
   "source": [
    "# Get average minus standard deviation\n",
    "def sdMinus(conc):\n",
    "    arr=np.maximum(np.average(conc,axis=0)-np.std(conc,axis=0),zeros[0,0,:])\n",
    "    return arr"
   ]
  },
  {
   "cell_type": "code",
   "execution_count": null,
   "metadata": {},
   "outputs": [],
   "source": [
    "# Plot a chemical species in number of particles\n",
    "species_list = ['M_PTN_JCVISYN3A_0131_c']\n",
    "times = np.arange(startTime,endTime+1,1)\n",
    "\n",
    "specInd = spec_list.index(species_list[0])\n",
    "conc = getParts(ta,specInd,startTime,endTime)\n",
    "\n",
    "plt.fill_between(times[:],np.percentile(conc,1,axis=0),np.percentile(conc,99,axis=0),alpha=0.3,label='1-99%',color='black')\n",
    "plt.fill_between(times[:],np.average(conc,axis=0)+np.std(conc,axis=0),sdMinus(conc),alpha=0.5,label='Stdev',color='magenta')\n",
    "plt.plot(times[:],np.average(conc,axis=0),label='Average',color='red')\n",
    "\n",
    "plt.ylabel('Particles',fontsize=14)\n",
    "plt.xlabel('Time (min)',fontsize=14)\n",
    "plt.legend(fontsize=14,loc='upper left')\n",
    "plt.title(species_list,fontsize=16)"
   ]
  },
  {
   "cell_type": "code",
   "execution_count": null,
   "metadata": {},
   "outputs": [],
   "source": []
  }
 ],
 "metadata": {
  "kernelspec": {
   "display_name": "Python 3 (ipykernel)",
   "language": "python",
   "name": "python3"
  },
  "language_info": {
   "codemirror_mode": {
    "name": "ipython",
    "version": 3
   },
   "file_extension": ".py",
   "mimetype": "text/x-python",
   "name": "python",
   "nbconvert_exporter": "python",
   "pygments_lexer": "ipython3",
   "version": "3.7.3"
  }
 },
 "nbformat": 4,
 "nbformat_minor": 4
}
