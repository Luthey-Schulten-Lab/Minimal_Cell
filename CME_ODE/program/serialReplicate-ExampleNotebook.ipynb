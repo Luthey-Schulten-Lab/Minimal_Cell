{
 "cells": [
  {
   "cell_type": "markdown",
   "metadata": {},
   "source": [
    "### Notebook to Run Individual *in silico* JCVI-syn3A Simulations Serially (with example analysis)"
   ]
  },
  {
   "cell_type": "code",
   "execution_count": 1,
   "metadata": {},
   "outputs": [],
   "source": [
    "# Import Lattice Microbes Software Suite (https://github.com/zanert2/Lattice_Microbes) modules\n",
    "import lm"
   ]
  },
  {
   "cell_type": "code",
   "execution_count": 2,
   "metadata": {},
   "outputs": [],
   "source": [
    "### Set possible runtime and analysis arguments\n",
    "time = 2 # minutes\n",
    "restartTime = 1 # minutes"
   ]
  },
  {
   "cell_type": "markdown",
   "metadata": {},
   "source": [
    "## Use a bash shell magic to run a single simulation"
   ]
  },
  {
   "cell_type": "code",
   "execution_count": 3,
   "metadata": {},
   "outputs": [
    {
     "name": "stdout",
     "output_type": "stream",
     "text": [
      "Locus  JCVSYN2_00155  has no AOE id!\n",
      "Locus  JCVSYN2_01555  has no AOE id!\n",
      "Locus  JCVSYN2_01600  has no AOE id!\n",
      "Locus  JCVSYN2_02325  has no AOE id!\n",
      "Locus  JCVISYN3A_0051  is pseudo.\n",
      "Locus  JCVISYN3A_0546  is pseudo.\n",
      "Locus  JCVISYN3A_0602  is pseudo.\n",
      "Warning: The SBtab file has an unknown column: !Compartment.\n",
      "Please use only supported column types!\n",
      "Warning: The SBtab file has an unknown column: !Compound.\n",
      "Please use only supported column types!\n",
      "Warning: The SBtab file has an unknown column: !Reaction.\n",
      "Please use only supported column types!\n",
      "Warning: The SBtab file has an unknown column: !Parameter:SBML:parameter:id.\n",
      "Please use only supported column types!\n",
      "Warning: The SBtab file has an unknown column: !Mode.\n",
      "Please use only supported column types!\n",
      "Warning: The SBtab file has an unknown column: !Compartment.\n",
      "Please use only supported column types!\n",
      "Warning: The SBtab file has an unknown column: !Compound.\n",
      "Please use only supported column types!\n",
      "Warning: The SBtab file has an unknown column: !Reaction.\n",
      "Please use only supported column types!\n",
      "Warning: The SBtab file has an unknown column: !Parameter:SBML:parameter:id.\n",
      "Please use only supported column types!\n",
      "Warning: The SBtab file has an unknown column: !Mode.\n",
      "Please use only supported column types!\n",
      "Warning: The SBtab file has an unknown column: !Compartment.\n",
      "Please use only supported column types!\n",
      "Warning: The SBtab file has an unknown column: !Compound.\n",
      "Please use only supported column types!\n",
      "Warning: The SBtab file has an unknown column: !Reaction.\n",
      "Please use only supported column types!\n",
      "Warning: The SBtab file has an unknown column: !Parameter:SBML:parameter:id.\n",
      "Please use only supported column types!\n",
      "Warning: The SBtab file has an unknown column: !Mode.\n",
      "Please use only supported column types!\n",
      "M_g6p_c\n",
      "M_g6p_c 74819\n",
      "M_g1p_c\n",
      "M_g1p_c 2018\n",
      "M_f6p_c\n",
      "M_f6p_c 17230\n",
      "M_man6p_c\n",
      "M_man6p_c 2018\n",
      "M_gam6p_c\n",
      "M_gam6p_c 14231\n",
      "M_acgam6p_c\n",
      "M_acgam6p_c 2018\n",
      "M_acmanap_c\n",
      "M_acmanap_c 2018\n",
      "M_pi_c\n",
      "M_pi_c 359576\n",
      "M_amp_c\n",
      "M_amp_c 2018\n",
      "M_adp_c\n",
      "M_adp_c 4395\n",
      "M_atp_c\n",
      "M_atp_c 73715\n",
      "M_acmana_c\n",
      "M_acmana_c 2018\n",
      "M_thfglu3_c\n",
      "M_thfglu3_c 2018\n",
      "M_10fthfglu3_c\n",
      "M_10fthfglu3_c 2018\n",
      "M_nh3_c\n",
      "M_nh3_c 2018\n",
      "M_pep_c\n",
      "M_pep_c 825\n",
      "M_pyr_c\n",
      "M_pyr_c 67926\n",
      "M_xu5p__D_c\n",
      "M_xu5p__D_c 1017\n",
      "M_ru5p__D_c\n",
      "M_ru5p__D_c 2018\n",
      "M_r5p_c\n",
      "M_r5p_c 1689\n",
      "M_prpp_c\n",
      "M_prpp_c 1511\n",
      "M_e4p_c\n",
      "M_e4p_c 353\n",
      "M_r1p_c\n",
      "M_r1p_c 2018\n",
      "M_fdp_c\n",
      "M_fdp_c 153442\n",
      "M_s7p_c\n",
      "M_s7p_c 9281\n",
      "M_dhap_c\n",
      "M_dhap_c 13006\n",
      "M_g3p_c\n",
      "M_g3p_c 2018\n",
      "M_2dr5p_c\n",
      "M_2dr5p_c 1848\n",
      "M_2dr1p_c\n",
      "M_2dr1p_c 2018\n",
      "M_nad_c\n",
      "M_nad_c 44081\n",
      "M_nadh_c\n",
      "M_nadh_c 511\n",
      "M_13dpg_c\n",
      "M_13dpg_c 198\n",
      "M_nadp_c\n",
      "M_nadp_c 202\n",
      "M_nadph_c\n",
      "M_nadph_c 690\n",
      "M_3pg_c\n",
      "M_3pg_c 22228\n",
      "M_2pg_c\n",
      "M_2pg_c 549\n",
      "M_lac__L_c\n",
      "M_lac__L_c 2018\n",
      "M_co2_c\n",
      "M_co2_c 472\n",
      "M_accoa_c\n",
      "M_accoa_c 5049\n",
      "M_actp_c\n",
      "M_actp_c 12689\n",
      "M_ac_c\n",
      "M_ac_c 2018\n",
      "M_acald_c\n",
      "M_acald_c 2018\n",
      "M_o2_c\n",
      "M_o2_c 2018\n",
      "M_nac_c\n",
      "M_nac_c 2018\n",
      "M_nicrnt_c\n",
      "M_nicrnt_c 2018\n",
      "M_dnad_c\n",
      "M_dnad_c 2018\n",
      "M_ribflv_c\n",
      "M_ribflv_c 404\n",
      "M_fmn_c\n",
      "M_fmn_c 1090\n",
      "M_fad_c\n",
      "M_fad_c 1292\n",
      "M_pydx5p_c\n",
      "M_pydx5p_c 2018\n",
      "M_thmpp_c\n",
      "M_thmpp_c 2018\n",
      "M_5fthf_c\n",
      "M_5fthf_c 2018\n",
      "M_5fthfglu3_c\n",
      "M_5fthfglu3_c 2018\n",
      "M_methfglu3_c\n",
      "M_methfglu3_c 1292\n",
      "M_mlthfglu3_c\n",
      "M_mlthfglu3_c 2018\n",
      "M_sprm_c\n",
      "M_sprm_c 2018\n",
      "Warning: The SBtab file has an unknown column: !Compartment.\n",
      "Please use only supported column types!\n",
      "Warning: The SBtab file has an unknown column: !Compound.\n",
      "Please use only supported column types!\n",
      "Warning: The SBtab file has an unknown column: !Reaction.\n",
      "Please use only supported column types!\n",
      "Warning: The SBtab file has an unknown column: !Parameter:SBML:parameter:id.\n",
      "Please use only supported column types!\n",
      "Warning: The SBtab file has an unknown column: !Mode.\n",
      "Please use only supported column types!\n",
      "[593, 124, 191, 445]\n",
      "End of Replication\n",
      "Fluxes folder exists\n",
      "Warning: The SBtab file has an unknown column: !Compartment.\n",
      "Please use only supported column types!\n",
      "Warning: The SBtab file has an unknown column: !Compound.\n",
      "Please use only supported column types!\n",
      "Warning: The SBtab file has an unknown column: !Reaction.\n",
      "Please use only supported column types!\n",
      "Warning: The SBtab file has an unknown column: !Parameter:SBML:parameter:id.\n",
      "Please use only supported column types!\n",
      "Warning: The SBtab file has an unknown column: !Mode.\n",
      "Please use only supported column types!\n",
      "{'M_ala__L_c': '1.49', 'M_arg__L_c': '0.4922', 'M_asn__L_c': '0.1745', 'M_asp__L_c': '2.1307', 'M_cys__L_c': '0.034', 'M_glu__L_c': '0.1', 'M_gln__L_c': '0.1', 'M_gly_c': '0.7149', 'M_his__L_c': '0.0684', 'M_ile__L_c': '0.1156', 'M_leu__L_c': '0.1803', 'M_lys__L_c': '0.2545', 'M_met__L_c': '0.0819', 'M_phe__L_c': '0.2862', 'M_pro__L_c': '0.3704', 'M_ser__L_c': '0.3723', 'M_thr__L_c': '0.3415', 'M_trp__L_c': '0.0318', 'M_tyr__L_c': '0.0302', 'M_val__L_c': '1.8184', 'M_alatrna_c': '0.1', 'M_argtrna_c': '0.1', 'M_asntrna_c': '0.1', 'M_asptrna_c': '0.1', 'M_cystrna_c': '0.1', 'M_glutrna_c': '0.1', 'M_glntrna_c': '0.1', 'M_glytrna_c': '0.1', 'M_histrna_c': '0.1', 'M_iletrna_c': '0.1', 'M_leutrna_c': '0.1', 'M_lystrna_c': '0.1', 'M_mettrna_c': '0.1', 'M_phetrna_c': '0.1', 'M_protrna_c': '0.1', 'M_sertrna_c': '0.1', 'M_thrtrna_c': '0.1', 'M_trptrna_c': '0.1', 'M_tyrtrna_c': '0.1', 'M_valtrna_c': '0.1', 'M_trnaala_c': '0.1', 'M_trnaarg_c': '0.1', 'M_trnaasn_c': '0.1', 'M_trnaasp_c': '0.1', 'M_trnacys_c': '0.1', 'M_trnaglu_c': '0.1', 'M_trnagln_c': '0.1', 'M_trnagly_c': '0.1', 'M_trnahis_c': '0.1', 'M_trnaile_c': '0.1', 'M_trnaleu_c': '0.1', 'M_trnalys_c': '0.1', 'M_trnamet_c': '0.1', 'M_trnaphe_c': '0.1', 'M_trnapro_c': '0.1', 'M_trnaser_c': '0.1', 'M_trnathr_c': '0.1', 'M_trnatrp_c': '0.1', 'M_trnatyr_c': '0.1', 'M_trnaval_c': '0.1', 'M_glutrnagln_c': '0.1', 'M_amet_c': '0.0512'}\n",
      "Warning: The SBtab file has an unknown column: !Compartment.\n",
      "Please use only supported column types!\n",
      "Warning: The SBtab file has an unknown column: !Compound.\n",
      "Please use only supported column types!\n",
      "Warning: The SBtab file has an unknown column: !Reaction.\n",
      "Please use only supported column types!\n",
      "Warning: The SBtab file has an unknown column: !Parameter:SBML:parameter:id.\n",
      "Please use only supported column types!\n",
      "Warning: The SBtab file has an unknown column: !Mode.\n",
      "Please use only supported column types!\n",
      "Warning: The SBtab file has an unknown column: !Compartment.\n",
      "Please use only supported column types!\n",
      "Warning: The SBtab file has an unknown column: !Compound.\n",
      "Please use only supported column types!\n",
      "Warning: The SBtab file has an unknown column: !Reaction.\n",
      "Please use only supported column types!\n",
      "Warning: The SBtab file has an unknown column: !Parameter:SBML:parameter:id.\n",
      "Please use only supported column types!\n",
      "Warning: The SBtab file has an unknown column: !Mode.\n",
      "Please use only supported column types!\n",
      "kmc_R_GLYK_M_adp_c_R_GLYK\n",
      "kmc_R_GLYK_M_glyc3p_c_R_GLYK\n",
      "kmc_R_ACPS_M_ACP_c_R_ACPS\n",
      "kmc_R_ACPS_M_pap_c_R_ACPS\n",
      "kmc_R_BPNT_M_amp_c_R_BPNT\n",
      "kmc_R_BPNT_M_pi_c_R_BPNT\n",
      "kmc_R_FAKr_M_adp_c_R_FAKr\n",
      "kmc_R_FAKr_M_ap_c_R_FAKr\n",
      "kmc_R_ACPPAT_M_ACP_R_c_R_ACPPAT\n",
      "kmc_R_ACPPAT_M_pi_c_R_ACPPAT\n",
      "kmc_R_APG3PAT_M_1ag3p_c_R_APG3PAT\n",
      "kmc_R_APG3PAT_M_pi_c_R_APG3PAT\n",
      "kmc_R_AGPAT_M_ACP_c_R_AGPAT\n",
      "kmc_R_AGPAT_M_pa_c_R_AGPAT\n",
      "kmc_R_DASYN_M_cdpdag_c_R_DASYN\n",
      "kmc_R_DASYN_M_ppi_c_R_DASYN\n",
      "kmc_R_PGSA_M_cmp_c_R_PGSA\n",
      "kmc_R_PGSA_M_pg3p_c_R_PGSA\n",
      "kmc_R_PGPP_M_pg_c_R_PGPP\n",
      "kmc_R_PGPP_M_pi_c_R_PGPP\n",
      "kmc_R_CLPNS_M_clpn_c_R_CLPNS\n",
      "kmc_R_CLPNS_M_glyc_c_R_CLPNS\n",
      "kmc_R_PAPA_M_12dgr_c_R_PAPA\n",
      "kmc_R_PAPA_M_pi_c_R_PAPA\n",
      "kmc_R_GALU_M_ppi_c_R_GALU\n",
      "kmc_R_GALU_M_udpg_c_R_GALU\n",
      "kmc_R_DAGGALT_M_galfur12dgr_c_R_DAGGALT\n",
      "kmc_R_DAGGALT_M_udp_c_R_DAGGALT\n",
      "       Reaction  ... IsReversible\n",
      "0         R_PGI  ...         TRUE\n",
      "1         R_PFK  ...        FALSE\n",
      "2         R_FBA  ...         TRUE\n",
      "3         R_TPI  ...         TRUE\n",
      "4        R_GAPD  ...         TRUE\n",
      "..          ...  ...          ...\n",
      "151  R_5FTHFPGS  ...        FALSE\n",
      "152     R_MTHFC  ...         TRUE\n",
      "154      R_GHMT  ...         TRUE\n",
      "155     R_MTHFD  ...         TRUE\n",
      "156    R_FTHFCL  ...        FALSE\n",
      "\n",
      "[148 rows x 5 columns]\n",
      "[1/8] GLCpts0 ( R_GLCpts0 ) ;  ptsi+M_pep_c <=> ptsi_P+M_pyr_c\n",
      "\n",
      "['ptsi', 'M_pep_c']\n",
      "['ptsi_P', 'M_pyr_c']\n",
      "------------------\n",
      "[2/8] GLCpts1 ( R_GLCpts1 ) ;  ptsh+ptsi_P<=>ptsh_P+ptsi\n",
      "\n",
      "['ptsh', 'ptsi_P']\n",
      "['ptsh_P', 'ptsi']\n",
      "------------------\n",
      "[3/8] GLCpts2 ( R_GLCpts2 ) ;  crr+ptsh_P<=>crr_P+ptsh\n",
      "\n",
      "['crr', 'ptsh_P']\n",
      "['crr_P', 'ptsh']\n",
      "------------------\n",
      "[4/8] GLCpts3 ( R_GLCpts3 ) ;  ptsg+crr_P<=>ptsg_P+crr\n",
      "\n",
      "['ptsg', 'crr_P']\n",
      "['ptsg_P', 'crr']\n",
      "------------------\n",
      "[5/8] GLCpts4 ( R_GLCpts4 ) ;  M_glc__D_e+ptsg_P<=>M_g6p_c+ptsg\n",
      "\n",
      "['M_glc__D_e', 'ptsg_P']\n",
      "['M_g6p_c', 'ptsg']\n",
      "------------------\n",
      "[6/8] GLYCt ( R_GLYCt ) ;  M_glyc_e <=> M_glyc_c\n",
      "\n",
      "['M_glyc_e']\n",
      "['M_glyc_c']\n",
      "------------------\n",
      "[7/8] FAt ( R_FAt ) ;  M_fa_e <=> M_fa_c\n",
      "\n",
      "['M_fa_e']\n",
      "['M_fa_c']\n",
      "------------------\n",
      "[8/8] CHOLt ( R_CHOLt ) ;  M_chsterol_e <=> M_chsterol_c\n",
      "\n",
      "['M_chsterol_e']\n",
      "['M_chsterol_c']\n",
      "------------------\n",
      "Warning: The SBtab file has an unknown column: !Compartment.\n",
      "Please use only supported column types!\n",
      "Warning: The SBtab file has an unknown column: !Compound.\n",
      "Please use only supported column types!\n",
      "Warning: The SBtab file has an unknown column: !Reaction.\n",
      "Please use only supported column types!\n",
      "Warning: The SBtab file has an unknown column: !Parameter:SBML:parameter:id.\n",
      "Please use only supported column types!\n",
      "Warning: The SBtab file has an unknown column: !Mode.\n",
      "Please use only supported column types!\n",
      "{'M_ala__L_c': '1.49', 'M_arg__L_c': '0.4922', 'M_asn__L_c': '0.1745', 'M_asp__L_c': '2.1307', 'M_cys__L_c': '0.034', 'M_glu__L_c': '0.1', 'M_gln__L_c': '0.1', 'M_gly_c': '0.7149', 'M_his__L_c': '0.0684', 'M_ile__L_c': '0.1156', 'M_leu__L_c': '0.1803', 'M_lys__L_c': '0.2545', 'M_met__L_c': '0.0819', 'M_phe__L_c': '0.2862', 'M_pro__L_c': '0.3704', 'M_ser__L_c': '0.3723', 'M_thr__L_c': '0.3415', 'M_trp__L_c': '0.0318', 'M_tyr__L_c': '0.0302', 'M_val__L_c': '1.8184', 'M_alatrna_c': '0.1', 'M_argtrna_c': '0.1', 'M_asntrna_c': '0.1', 'M_asptrna_c': '0.1', 'M_cystrna_c': '0.1', 'M_glutrna_c': '0.1', 'M_glntrna_c': '0.1', 'M_glytrna_c': '0.1', 'M_histrna_c': '0.1', 'M_iletrna_c': '0.1', 'M_leutrna_c': '0.1', 'M_lystrna_c': '0.1', 'M_mettrna_c': '0.1', 'M_phetrna_c': '0.1', 'M_protrna_c': '0.1', 'M_sertrna_c': '0.1', 'M_thrtrna_c': '0.1', 'M_trptrna_c': '0.1', 'M_tyrtrna_c': '0.1', 'M_valtrna_c': '0.1', 'M_trnaala_c': '0.1', 'M_trnaarg_c': '0.1', 'M_trnaasn_c': '0.1', 'M_trnaasp_c': '0.1', 'M_trnacys_c': '0.1', 'M_trnaglu_c': '0.1', 'M_trnagln_c': '0.1', 'M_trnagly_c': '0.1', 'M_trnahis_c': '0.1', 'M_trnaile_c': '0.1', 'M_trnaleu_c': '0.1', 'M_trnalys_c': '0.1', 'M_trnamet_c': '0.1', 'M_trnaphe_c': '0.1', 'M_trnapro_c': '0.1', 'M_trnaser_c': '0.1', 'M_trnathr_c': '0.1', 'M_trnatrp_c': '0.1', 'M_trnatyr_c': '0.1', 'M_trnaval_c': '0.1', 'M_glutrnagln_c': '0.1', 'M_amet_c': '0.0512'}\n",
      "Warning: The SBtab file has an unknown column: !Compartment.\n",
      "Please use only supported column types!\n",
      "Warning: The SBtab file has an unknown column: !Compound.\n",
      "Please use only supported column types!\n",
      "Warning: The SBtab file has an unknown column: !Reaction.\n",
      "Please use only supported column types!\n",
      "Warning: The SBtab file has an unknown column: !Parameter:SBML:parameter:id.\n",
      "Please use only supported column types!\n",
      "Warning: The SBtab file has an unknown column: !Mode.\n",
      "Please use only supported column types!\n",
      "Warning: The SBtab file has an unknown column: !Compartment.\n",
      "Please use only supported column types!\n",
      "Warning: The SBtab file has an unknown column: !Compound.\n",
      "Please use only supported column types!\n",
      "Warning: The SBtab file has an unknown column: !Reaction.\n",
      "Please use only supported column types!\n",
      "Warning: The SBtab file has an unknown column: !Parameter:SBML:parameter:id.\n",
      "Please use only supported column types!\n",
      "Warning: The SBtab file has an unknown column: !Mode.\n",
      "Please use only supported column types!\n",
      "kmc_R_GLYK_M_adp_c_R_GLYK\n",
      "kmc_R_GLYK_M_glyc3p_c_R_GLYK\n",
      "kmc_R_ACPS_M_ACP_c_R_ACPS\n",
      "kmc_R_ACPS_M_pap_c_R_ACPS\n",
      "kmc_R_BPNT_M_amp_c_R_BPNT\n",
      "kmc_R_BPNT_M_pi_c_R_BPNT\n",
      "kmc_R_FAKr_M_adp_c_R_FAKr\n",
      "kmc_R_FAKr_M_ap_c_R_FAKr\n",
      "kmc_R_ACPPAT_M_ACP_R_c_R_ACPPAT\n",
      "kmc_R_ACPPAT_M_pi_c_R_ACPPAT\n",
      "kmc_R_APG3PAT_M_1ag3p_c_R_APG3PAT\n",
      "kmc_R_APG3PAT_M_pi_c_R_APG3PAT\n",
      "kmc_R_AGPAT_M_ACP_c_R_AGPAT\n",
      "kmc_R_AGPAT_M_pa_c_R_AGPAT\n",
      "kmc_R_DASYN_M_cdpdag_c_R_DASYN\n",
      "kmc_R_DASYN_M_ppi_c_R_DASYN\n",
      "kmc_R_PGSA_M_cmp_c_R_PGSA\n",
      "kmc_R_PGSA_M_pg3p_c_R_PGSA\n",
      "kmc_R_PGPP_M_pg_c_R_PGPP\n",
      "kmc_R_PGPP_M_pi_c_R_PGPP\n",
      "kmc_R_CLPNS_M_clpn_c_R_CLPNS\n",
      "kmc_R_CLPNS_M_glyc_c_R_CLPNS\n",
      "kmc_R_PAPA_M_12dgr_c_R_PAPA\n",
      "kmc_R_PAPA_M_pi_c_R_PAPA\n",
      "kmc_R_GALU_M_ppi_c_R_GALU\n",
      "kmc_R_GALU_M_udpg_c_R_GALU\n",
      "kmc_R_DAGGALT_M_galfur12dgr_c_R_DAGGALT\n",
      "kmc_R_DAGGALT_M_udp_c_R_DAGGALT\n",
      "       Reaction  ... IsReversible\n",
      "0         R_PGI  ...         TRUE\n",
      "1         R_PFK  ...        FALSE\n",
      "2         R_FBA  ...         TRUE\n",
      "3         R_TPI  ...         TRUE\n",
      "4        R_GAPD  ...         TRUE\n",
      "..          ...  ...          ...\n",
      "151  R_5FTHFPGS  ...        FALSE\n",
      "152     R_MTHFC  ...         TRUE\n",
      "154      R_GHMT  ...         TRUE\n",
      "155     R_MTHFD  ...         TRUE\n",
      "156    R_FTHFCL  ...        FALSE\n",
      "\n",
      "[148 rows x 5 columns]\n",
      "[1/8] GLCpts0 ( R_GLCpts0 ) ;  ptsi+M_pep_c <=> ptsi_P+M_pyr_c\n",
      "\n",
      "['ptsi', 'M_pep_c']\n",
      "['ptsi_P', 'M_pyr_c']\n",
      "------------------\n",
      "[2/8] GLCpts1 ( R_GLCpts1 ) ;  ptsh+ptsi_P<=>ptsh_P+ptsi\n",
      "\n",
      "['ptsh', 'ptsi_P']\n",
      "['ptsh_P', 'ptsi']\n",
      "------------------\n",
      "[3/8] GLCpts2 ( R_GLCpts2 ) ;  crr+ptsh_P<=>crr_P+ptsh\n",
      "\n",
      "['crr', 'ptsh_P']\n",
      "['crr_P', 'ptsh']\n",
      "------------------\n",
      "[4/8] GLCpts3 ( R_GLCpts3 ) ;  ptsg+crr_P<=>ptsg_P+crr\n",
      "\n",
      "['ptsg', 'crr_P']\n",
      "['ptsg_P', 'crr']\n",
      "------------------\n",
      "[5/8] GLCpts4 ( R_GLCpts4 ) ;  M_glc__D_e+ptsg_P<=>M_g6p_c+ptsg\n",
      "\n",
      "['M_glc__D_e', 'ptsg_P']\n",
      "['M_g6p_c', 'ptsg']\n",
      "------------------\n",
      "[6/8] GLYCt ( R_GLYCt ) ;  M_glyc_e <=> M_glyc_c\n",
      "\n",
      "['M_glyc_e']\n",
      "['M_glyc_c']\n",
      "------------------\n",
      "[7/8] FAt ( R_FAt ) ;  M_fa_e <=> M_fa_c\n",
      "\n",
      "['M_fa_e']\n",
      "['M_fa_c']\n",
      "------------------\n",
      "[8/8] CHOLt ( R_CHOLt ) ;  M_chsterol_e <=> M_chsterol_c\n",
      "\n",
      "['M_chsterol_e']\n",
      "['M_chsterol_c']\n",
      "------------------\n",
      "ITERATION IS MINUTE:  1\n",
      "Got those species\n",
      "Species IDs len is:  2661\n",
      "DF size on time:  0  is:  5322\n",
      "                      Time    0.0\n",
      "0                 M_udpg_c  42997\n",
      "1               M_udpgal_c   2018\n",
      "2                   M_ap_c   2018\n",
      "3                   M_pa_c   2018\n",
      "4                 M_glyc_c  19288\n",
      "...                    ...    ...\n",
      "2656  JCVISYN3A_0424_inter      0\n",
      "2657  JCVISYN3A_0423_inter      0\n",
      "2658  JCVISYN3A_0422_inter      0\n",
      "2659  JCVISYN3A_0421_inter      0\n",
      "2660  JCVISYN3A_0420_inter      0\n",
      "\n",
      "[2661 rows x 2 columns]\n",
      "GOT UDPG: 42997\n",
      "Locus  JCVSYN2_00155  has no AOE id!\n",
      "Locus  JCVSYN2_01555  has no AOE id!\n",
      "Locus  JCVSYN2_01600  has no AOE id!\n",
      "Locus  JCVSYN2_02325  has no AOE id!\n",
      "Locus  JCVISYN3A_0051  is pseudo.\n",
      "Locus  JCVISYN3A_0546  is pseudo.\n",
      "Locus  JCVISYN3A_0602  is pseudo.\n",
      "Added charging reactions for M_trnaleu_c\n",
      "Added charging reactions for M_trnalys_c\n",
      "Added charging reactions for M_trnaser_c\n",
      "Added charging reactions for M_trnagly_c\n",
      "Added charging reactions for M_trnaarg_c\n",
      "Added charging reactions for M_trnatyr_c\n",
      "Added charging reactions for M_trnathr_c\n",
      "Added charging reactions for M_trnatrp_c\n",
      "Added charging reactions for M_trnahis_c\n",
      "Added charging reactions for M_trnaile_c\n",
      "Added charging reactions for M_trnaval_c\n",
      "Added charging reactions for M_trnaglu_c\n",
      "Added charging reactions for M_trnaasn_c\n",
      "Added charging reactions for M_trnapro_c\n",
      "Added charging reactions for M_trnaala_c\n",
      "Added charging reactions for M_trnamet_c\n",
      "Added charging reactions for M_trnaasp_c\n",
      "Added charging reactions for M_trnaphe_c\n",
      "Added charging reactions for M_trnacys_c\n",
      "JCVISYN3A_0067\n",
      "JCVISYN3A_0068\n",
      "JCVISYN3A_0069\n",
      "End of Replication\n",
      "Nothing to delete\n",
      "Made fluxes folder\n",
      "File Name is:  ../simulations/out-1rs1.lm\n",
      "ITERATION IS MINUTE:  2\n",
      "2\n",
      "Got those species\n",
      "Species IDs len is:  2661\n",
      "DF size on time:  1  is:  5322\n",
      "                      Time    1.0\n",
      "0                 M_udpg_c  40093\n",
      "1               M_udpgal_c    295\n",
      "2                   M_ap_c    616\n",
      "3                   M_pa_c   3195\n",
      "4                 M_glyc_c      5\n",
      "...                    ...    ...\n",
      "2656  JCVISYN3A_0424_inter      0\n",
      "2657  JCVISYN3A_0423_inter      0\n",
      "2658  JCVISYN3A_0422_inter      0\n",
      "2659  JCVISYN3A_0421_inter      0\n",
      "2660  JCVISYN3A_0420_inter      0\n",
      "\n",
      "[2661 rows x 2 columns]\n",
      "writing df\n",
      "GOT UDPG: 40093\n",
      "Locus  JCVSYN2_00155  has no AOE id!\n",
      "Locus  JCVSYN2_01555  has no AOE id!\n",
      "Locus  JCVSYN2_01600  has no AOE id!\n",
      "Locus  JCVSYN2_02325  has no AOE id!\n",
      "Locus  JCVISYN3A_0051  is pseudo.\n",
      "Locus  JCVISYN3A_0546  is pseudo.\n",
      "Locus  JCVISYN3A_0602  is pseudo.\n",
      "Added charging reactions for M_trnaleu_c\n",
      "Added charging reactions for M_trnalys_c\n",
      "Added charging reactions for M_trnaser_c\n",
      "Added charging reactions for M_trnagly_c\n",
      "Added charging reactions for M_trnaarg_c\n",
      "Added charging reactions for M_trnatyr_c\n",
      "Added charging reactions for M_trnathr_c\n",
      "Added charging reactions for M_trnatrp_c\n",
      "Added charging reactions for M_trnahis_c\n",
      "Added charging reactions for M_trnaile_c\n",
      "Added charging reactions for M_trnaval_c\n",
      "Added charging reactions for M_trnaglu_c\n",
      "Added charging reactions for M_trnaasn_c\n",
      "Added charging reactions for M_trnapro_c\n",
      "Added charging reactions for M_trnaala_c\n",
      "Added charging reactions for M_trnamet_c\n",
      "Added charging reactions for M_trnaasp_c\n",
      "Added charging reactions for M_trnaphe_c\n",
      "Added charging reactions for M_trnacys_c\n",
      "JCVISYN3A_0067\n",
      "JCVISYN3A_0068\n",
      "JCVISYN3A_0069\n",
      "End of Replication\n",
      "Nothing to delete\n",
      "Made fluxes folder\n",
      "File Name is:  ../simulations/out-1rs2.lm\n"
     ]
    },
    {
     "name": "stderr",
     "output_type": "stream",
     "text": [
      "\r",
      "  0%|          | 0/1 [00:00<?, ?it/s]\r",
      "100%|##########| 1/1 [03:38<00:00, 218.77s/it]\r",
      "100%|##########| 1/1 [03:38<00:00, 218.77s/it]\n",
      "\r",
      "  0%|          | 0/1 [00:00<?, ?it/s]\r",
      "100%|##########| 1/1 [03:32<00:00, 212.60s/it]\r",
      "100%|##########| 1/1 [03:32<00:00, 212.60s/it]\n",
      "\r",
      "  0%|          | 0/1 [00:00<?, ?it/s]\r",
      "100%|##########| 1/1 [03:14<00:00, 194.53s/it]\r",
      "100%|##########| 1/1 [03:14<00:00, 194.53s/it]\n"
     ]
    }
   ],
   "source": [
    "%%bash\n",
    "\n",
    "### Simulation Arguments\n",
    "### -procid, the processID (i.e. 1,2,3 ...)\n",
    "### -t, the total simulation time (in minutes, cell cycle = 120 minutes to ensure simulation of full cell cycles)\n",
    "### -rs, the restart time (in minutes, default = 1)\n",
    "\n",
    "python3 MinCell_CMEODE.py -procid 1 -t 1  ### args (time should be 1 minute here, to set initial conditions)\n",
    "python3 MinCell_restart.py -procid 1 -t 2 -rs 1 ### args (the time here should be the desired simulation time)"
   ]
  },
  {
   "cell_type": "markdown",
   "metadata": {},
   "source": [
    "### Some simple Analysis to plot out individual species\n",
    "\n",
    "Documentation for analysis unctionality can be accessed via **'?myMethod'**\n",
    "\n",
    "*e.g* ?pp.openLMFile \n",
    "\n",
    "to return a docstring"
   ]
  },
  {
   "cell_type": "code",
   "execution_count": 4,
   "metadata": {},
   "outputs": [],
   "source": [
    "# Import needed modules\n",
    "import numpy as np\n",
    "import sys\n",
    "import os\n",
    "import glob\n",
    "import lm as lm\n",
    "from pyLM import *\n",
    "\n",
    "from pySTDLM import PostProcessing as pp\n",
    "\n",
    "import pandas as pd\n",
    "\n",
    "import matplotlib.pyplot as plt\n",
    "%matplotlib inline"
   ]
  },
  {
   "cell_type": "code",
   "execution_count": 5,
   "metadata": {},
   "outputs": [],
   "source": [
    "pp.openLMFile?"
   ]
  },
  {
   "cell_type": "code",
   "execution_count": 6,
   "metadata": {},
   "outputs": [],
   "source": [
    "times=np.arange(0,time+1,1)\n",
    "numSims=1"
   ]
  },
  {
   "cell_type": "code",
   "execution_count": 7,
   "metadata": {},
   "outputs": [],
   "source": [
    "# Sets sims folder to your current working directory ... you can modify this if needed\n",
    "os.chdir('..')\n",
    "simsFolder = os.getcwd()+'/simulations/'\n",
    "fn='out-1.lm'# siingle simulation file"
   ]
  },
  {
   "cell_type": "code",
   "execution_count": 8,
   "metadata": {},
   "outputs": [],
   "source": [
    "# Get a list of all chemical species (genes, RNA, proteins etc.) tracked in the simulation\n",
    "fh = pp.openLMFile(simsFolder+fn)\n",
    "spec_list=pp.getSpecies(fh)"
   ]
  },
  {
   "cell_type": "code",
   "execution_count": 9,
   "metadata": {},
   "outputs": [
    {
     "name": "stderr",
     "output_type": "stream",
     "text": [
      "UsageError: Line magic function `%%bash` not found.\n"
     ]
    }
   ],
   "source": [
    "# Check that we are in the correct directory\n",
    "%%bash\n",
    "pwd"
   ]
  },
  {
   "cell_type": "code",
   "execution_count": 10,
   "metadata": {},
   "outputs": [],
   "source": [
    "# Get traces of all cells\n",
    "def getTraces(sL,numSims,times):\n",
    "    fileList=[]\n",
    "    traceArr = np.zeros((numSims,len(sL),len(times)))\n",
    "    os.chdir(simsFolder)\n",
    "    for i, my_file in enumerate(glob.glob(\"*.csv\")):\n",
    "        print(my_file)\n",
    "        fileList.append(my_file)\n",
    "        df = pd.read_csv(str(my_file),header=0)\n",
    "        for j,time in enumerate(times):\n",
    "            if (j == 0):\n",
    "                startVal = 0\n",
    "                endVal=len(sL)\n",
    "            else:\n",
    "                startVal=((len(sL)+1)*j)\n",
    "                endVal=(len(sL)+1)*(j+1)-1\n",
    "            traceArr[i,:,j] = df[startVal:endVal]['0.0'][:]\n",
    "    return traceArr,fileList"
   ]
  },
  {
   "cell_type": "code",
   "execution_count": 11,
   "metadata": {
    "scrolled": true
   },
   "outputs": [
    {
     "name": "stdout",
     "output_type": "stream",
     "text": [
      "rep-1.csv\n"
     ]
    }
   ],
   "source": [
    "ta,fL = getTraces(spec_list,numSims,times)"
   ]
  },
  {
   "cell_type": "code",
   "execution_count": 12,
   "metadata": {},
   "outputs": [],
   "source": [
    "# Set beginning and ending times for plottting\n",
    "startTime=0\n",
    "endTime=times[-1]"
   ]
  },
  {
   "cell_type": "code",
   "execution_count": 13,
   "metadata": {},
   "outputs": [],
   "source": [
    "zeros = np.zeros((numSims,len(spec_list),len(times)))"
   ]
  },
  {
   "cell_type": "code",
   "execution_count": 14,
   "metadata": {},
   "outputs": [
    {
     "name": "stdout",
     "output_type": "stream",
     "text": [
      "75\n"
     ]
    },
    {
     "data": {
      "text/plain": [
       "Text(0.5, 1.0, \"['M_atp_c']\")"
      ]
     },
     "execution_count": 14,
     "metadata": {},
     "output_type": "execute_result"
    },
    {
     "data": {
      "image/png": "[encoded data removed]",
      "text/plain": [
       "<Figure size 432x288 with 1 Axes>"
      ]
     },
     "metadata": {
      "needs_background": "light"
     },
     "output_type": "display_data"
    }
   ],
   "source": [
    "# Plot a chemical species concentration\n",
    "species_list = ['M_atp_c']\n",
    "times = np.arange(startTime,endTime+1,1)\n",
    "\n",
    "specInd = spec_list.index(species_list[0])\n",
    "vInd=spec_list.index('CellV')\n",
    "print(specInd)\n",
    "# 1e-19 conversion factor since 'Volume' is stored as in 10^-19 L to give values of 335 for IC etc.\n",
    "conc = ta[:,specInd,startTime:endTime+1]*1000.0/(ta[:,vInd,startTime:endTime+1]*1e-19*6.022e23)\n",
    "\n",
    "plt.fill_between(times[:],np.percentile(conc,1,axis=0),np.percentile(conc,99,axis=0),alpha=0.3,label='1-99%',color='black')\n",
    "plt.fill_between(times[:],np.average(conc,axis=0)+np.std(conc,axis=0),np.maximum(np.average(conc,axis=0)-np.std(conc,axis=0),zeros[0,0,:]),alpha=0.5,label='Stdev',color='magenta')\n",
    "plt.plot(times[:],np.median(conc,axis=0),label='Average',color='red')\n",
    "\n",
    "plt.ylabel('Concentration (mM)',fontsize=14)\n",
    "plt.xlabel('Time (min)',fontsize=14)\n",
    "#plt.ylim(0,5)\n",
    "plt.legend(fontsize=14,loc='upper left')\n",
    "plt.title(species_list,fontsize=16)"
   ]
  },
  {
   "cell_type": "markdown",
   "metadata": {},
   "source": [
    "### Plot out Particle Number instead of concentration\n",
    "\n",
    "For example, let's look at the enzyme Fructose Bisphosphate Aldolase (*fba*, /JCVISYN3A_0131).\n",
    "\n",
    "As we can see, even after a few minutes several copies of this main glycolysis pathway enzyme are translated."
   ]
  },
  {
   "cell_type": "code",
   "execution_count": 15,
   "metadata": {},
   "outputs": [],
   "source": [
    "# Get particle counts\n",
    "def getParts(ta,specInd,startTime,endTime):\n",
    "    parts=ta[:,specInd,startTime:endTime+1]\n",
    "    return parts"
   ]
  },
  {
   "cell_type": "code",
   "execution_count": 16,
   "metadata": {},
   "outputs": [],
   "source": [
    "# Get average minus standard deviation\n",
    "def sdMinus(conc):\n",
    "    arr=np.maximum(np.average(conc,axis=0)-np.std(conc,axis=0),zeros[0,0,:])\n",
    "    return arr"
   ]
  },
  {
   "cell_type": "code",
   "execution_count": 17,
   "metadata": {},
   "outputs": [
    {
     "data": {
      "text/plain": [
       "Text(0.5, 1.0, \"['M_DnaA_c']\")"
      ]
     },
     "execution_count": 17,
     "metadata": {},
     "output_type": "execute_result"
    },
    {
     "data": {
      "image/png": "[encoded data removed]",
      "text/plain": [
       "<Figure size 432x288 with 1 Axes>"
      ]
     },
     "metadata": {
      "needs_background": "light"
     },
     "output_type": "display_data"
    }
   ],
   "source": [
    "# Plot a chemical species in number of particles\n",
    "species_list = ['M_DnaA_c']\n",
    "times = np.arange(startTime,endTime+1,1)\n",
    "\n",
    "specInd = spec_list.index(species_list[0])\n",
    "conc = getParts(ta,specInd,startTime,endTime)\n",
    "\n",
    "plt.fill_between(times[:],np.percentile(conc,1,axis=0),np.percentile(conc,99,axis=0),alpha=0.3,label='1-99%',color='black')\n",
    "plt.fill_between(times[:],np.average(conc,axis=0)+np.std(conc,axis=0),sdMinus(conc),alpha=0.5,label='Stdev',color='magenta')\n",
    "plt.plot(times[:],np.average(conc,axis=0),label='Average',color='red')\n",
    "\n",
    "plt.ylabel('Particles',fontsize=14)\n",
    "plt.xlabel('Time (min)',fontsize=14)\n",
    "plt.legend(fontsize=14,loc='upper left')\n",
    "plt.title(species_list,fontsize=16)"
   ]
  },
  {
   "cell_type": "markdown",
   "metadata": {},
   "source": [
    "## Now let's look at the reaction fluxes for a few reactions"
   ]
  },
  {
   "cell_type": "code",
   "execution_count": 20,
   "metadata": {},
   "outputs": [],
   "source": [
    "# Sets the fluxes folder to simulations directory (cwd) + the fluxes directory\n",
    "fluxesFolder = os.getcwd()+'/fluxes/'\n",
    "\n",
    "#simTime = 121 # min\n",
    "#times=np.arange(0,simTime,1)"
   ]
  },
  {
   "cell_type": "code",
   "execution_count": 21,
   "metadata": {},
   "outputs": [
    {
     "data": {
      "text/html": [
       "<div>\n",
       "<style scoped>\n",
       "    .dataframe tbody tr th:only-of-type {\n",
       "        vertical-align: middle;\n",
       "    }\n",
       "\n",
       "    .dataframe tbody tr th {\n",
       "        vertical-align: top;\n",
       "    }\n",
       "\n",
       "    .dataframe thead th {\n",
       "        text-align: right;\n",
       "    }\n",
       "</style>\n",
       "<table border=\"1\" class=\"dataframe\">\n",
       "  <thead>\n",
       "    <tr style=\"text-align: right;\">\n",
       "      <th></th>\n",
       "      <th>0</th>\n",
       "      <th>1</th>\n",
       "      <th>2</th>\n",
       "    </tr>\n",
       "  </thead>\n",
       "  <tbody>\n",
       "    <tr>\n",
       "      <th>0</th>\n",
       "      <td>0</td>\n",
       "      <td>PGI</td>\n",
       "      <td>0.808334</td>\n",
       "    </tr>\n",
       "    <tr>\n",
       "      <th>1</th>\n",
       "      <td>1</td>\n",
       "      <td>PFK</td>\n",
       "      <td>0.852968</td>\n",
       "    </tr>\n",
       "    <tr>\n",
       "      <th>2</th>\n",
       "      <td>2</td>\n",
       "      <td>FBA</td>\n",
       "      <td>0.709221</td>\n",
       "    </tr>\n",
       "    <tr>\n",
       "      <th>3</th>\n",
       "      <td>3</td>\n",
       "      <td>TPI</td>\n",
       "      <td>0.705314</td>\n",
       "    </tr>\n",
       "    <tr>\n",
       "      <th>4</th>\n",
       "      <td>4</td>\n",
       "      <td>GAPD</td>\n",
       "      <td>1.409079</td>\n",
       "    </tr>\n",
       "  </tbody>\n",
       "</table>\n",
       "</div>"
      ],
      "text/plain": [
       "   0     1         2\n",
       "0  0   PGI  0.808334\n",
       "1  1   PFK  0.852968\n",
       "2  2   FBA  0.709221\n",
       "3  3   TPI  0.705314\n",
       "4  4  GAPD  1.409079"
      ]
     },
     "execution_count": 21,
     "metadata": {},
     "output_type": "execute_result"
    }
   ],
   "source": [
    "# Quick check of flux file contents (.csv with: rxnID, flux (mM/s))\n",
    "myfile='rep-1-fluxDF_final.csv'\n",
    "df=pd.read_csv(fluxesFolder+str(myfile),header=None)\n",
    "df.head()"
   ]
  },
  {
   "cell_type": "code",
   "execution_count": 22,
   "metadata": {},
   "outputs": [],
   "source": [
    "# Get the reaction IDs from the flux file ... 175 non-redundant metabolic reactions\n",
    "def getRxnList(path):\n",
    "    fn = path+'rep-1-fluxDF_final.csv'\n",
    "    df=pd.read_csv(fn,header=None)\n",
    "    rxn_list = df[0:175][1][:].tolist()\n",
    "    return rxn_list"
   ]
  },
  {
   "cell_type": "code",
   "execution_count": 23,
   "metadata": {},
   "outputs": [],
   "source": [
    "# List of reaction IDs\n",
    "rL = getRxnList(fluxesFolder)"
   ]
  },
  {
   "cell_type": "code",
   "execution_count": 24,
   "metadata": {},
   "outputs": [],
   "source": [
    "# Get particle counts, here we will use this to get an array of fluxes (imagining them as particle count values)\n",
    "def getParts(ta,specInd,startTime,endTime):\n",
    "    parts=ta[:,specInd,startTime:endTime+1]\n",
    "    return parts"
   ]
  },
  {
   "cell_type": "code",
   "execution_count": 25,
   "metadata": {},
   "outputs": [],
   "source": [
    "# Get reaction flux traces for all simulated cells\n",
    "def getTraces():\n",
    "    traceArr = np.zeros((numSims,len(rL),len(times)))\n",
    "    os.chdir(fluxesFolder)\n",
    "    for i, my_file in enumerate(glob.glob(\"*.csv\")):\n",
    "        print(my_file)\n",
    "        df = pd.read_csv(str(my_file),header=None)\n",
    "        for j,time in enumerate(times):\n",
    "            if (j == 0):\n",
    "                #print(j)\n",
    "                startVal = 0\n",
    "                endVal=len(rL)\n",
    "                traceArr[i,:,j] = df[startVal:endVal][2][:].values\n",
    "            else:\n",
    "                print(j)\n",
    "                startVal=(len(rL)*j)\n",
    "                endVal=len(rL)*(j+1)\n",
    "            #print('start:',startVal,'end:',endVal)\n",
    "                traceArr[i,:,j] = df[startVal:endVal][1][:].values.astype(float)\n",
    "    return traceArr"
   ]
  },
  {
   "cell_type": "code",
   "execution_count": 28,
   "metadata": {},
   "outputs": [
    {
     "name": "stdout",
     "output_type": "stream",
     "text": [
      "rep-1-fluxDF_final.csv\n",
      "1\n",
      "2\n"
     ]
    }
   ],
   "source": [
    "fluxArr = getTraces()"
   ]
  },
  {
   "cell_type": "markdown",
   "metadata": {},
   "source": [
    "### Let's look at the fructose bisphosphate aldolase (FBA) reaction from before\n",
    "\n",
    "Using this functionality we can observe how the reaction flux (*i.e.* concentration of substrate converted to product produced per unit time - mM/s) might change due to variables like:\n",
    "\n",
    "- available enzyme catalyzing the reaction (M_PTN_JCVISYN3A_0131_c)\n",
    "\n",
    "- available substrates for the reaction (M_fdp_c - fructose diphosphate, M_atp_c -ATP)\n",
    "\n",
    "- flux through upstream reactions (PFK - phosphofructokinase converase of F6P to FDP)"
   ]
  },
  {
   "cell_type": "code",
   "execution_count": 31,
   "metadata": {},
   "outputs": [
    {
     "data": {
      "text/plain": [
       "Text(0.5, 1.0, \"['FBA']\")"
      ]
     },
     "execution_count": 31,
     "metadata": {},
     "output_type": "execute_result"
    },
    {
     "data": {
      "image/png": "[encoded data removed]",
      "text/plain": [
       "<Figure size 432x288 with 1 Axes>"
      ]
     },
     "metadata": {
      "needs_background": "light"
     },
     "output_type": "display_data"
    }
   ],
   "source": [
    "rxn_list = ['FBA']\n",
    "times = np.arange(startTime,endTime+1,1)\n",
    "\n",
    "rxnInd = rL.index(rxn_list[0])\n",
    "flux = getParts(fluxArr,rxnInd,startTime,endTime)\n",
    "\n",
    "plt.fill_between(times[:],np.percentile(flux,1,axis=0),np.percentile(flux,99,axis=0),alpha=0.3,label='1-99%',color='black')\n",
    "plt.fill_between(times[:],np.average(flux,axis=0)+np.std(flux,axis=0),np.average(flux,axis=0)-np.std(flux,axis=0),alpha=0.5,label='Stdev',color='magenta')\n",
    "plt.plot(times[:],np.median(flux,axis=0),label='Median',color='red')\n",
    "\n",
    "plt.ylabel('Flux (mM/s)',fontsize=14)\n",
    "plt.xlabel('Time (min)',fontsize=14)\n",
    "plt.legend(fontsize=16,loc='lower left')\n",
    "plt.title(rxn_list,fontsize=16)"
   ]
  },
  {
   "cell_type": "code",
   "execution_count": null,
   "metadata": {},
   "outputs": [],
   "source": []
  }
 ],
 "metadata": {
  "kernelspec": {
   "display_name": "Python 3 (ipykernel)",
   "language": "python",
   "name": "python3"
  },
  "language_info": {
   "codemirror_mode": {
    "name": "ipython",
    "version": 3
   },
   "file_extension": ".py",
   "mimetype": "text/x-python",
   "name": "python",
   "nbconvert_exporter": "python",
   "pygments_lexer": "ipython3",
   "version": "3.7.3"
  }
 },
 "nbformat": 4,
 "nbformat_minor": 4
}
