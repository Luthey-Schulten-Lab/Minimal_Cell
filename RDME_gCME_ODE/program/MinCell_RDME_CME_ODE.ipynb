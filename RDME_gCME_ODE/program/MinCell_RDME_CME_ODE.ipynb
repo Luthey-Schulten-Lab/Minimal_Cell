{
 "cells": [
  {
   "cell_type": "code",
   "execution_count": null,
   "metadata": {},
   "outputs": [],
   "source": [
    "# Author: Zane Thornburg\n",
    "\n",
    "### User Inputs ###\n",
    "\n",
    "simulation_time = 10.0 # seconds\n",
    "simulation_folder_name = 'new_folder'\n",
    "DNA_configuration_number = '01' # 01 - 70, must be two digits in a string\n",
    "\n",
    "## WARNING: Because SBTab tables are used for metabolic reaction parameters, it may conflict with itself.\n",
    "## If an SBTab error occurs saying table already in notebook, simply Restart and Run All again."
   ]
  },
  {
   "cell_type": "code",
   "execution_count": null,
   "metadata": {},
   "outputs": [],
   "source": [
    "# Import Dependencies\n",
    "from jLM.RegionBuilder import RegionBuilder\n",
    "from jLM.RDME import Sim as RDMESim\n",
    "from jLM.RDME import File as RDMEFile\n",
    "import jLM\n",
    "\n",
    "from jLM.Solvers import makeSolver\n",
    "\n",
    "from pyLM import CME\n",
    "\n",
    "from pyLM.units import *\n",
    "\n",
    "import lm\n",
    "\n",
    "from lm import MpdRdmeSolver\n",
    "from lm import IntMpdRdmeSolver\n",
    "\n",
    "import matplotlib.pyplot as plt\n",
    "from mpl_toolkits.mplot3d import Axes3D\n",
    "import numpy  as np\n",
    "\n",
    "import os\n",
    "\n",
    "import scipy.ndimage as spnd\n",
    "import ipywidgets as ipw\n",
    "import h5py\n",
    "import itertools\n",
    "import random\n",
    "import copy\n",
    "\n",
    "# import ipyvolume\n",
    "# from sidecar import Sidecar\n",
    "# import numpy as np\n",
    "# from ipywebrtc import WidgetStream, VideoRecorder\n",
    "\n",
    "import math\n",
    "import scipy as sp\n",
    "import scipy.spatial\n",
    "\n",
    "# import seaborn as sns\n",
    "\n",
    "import csv\n",
    "import pandas as pd\n",
    "from Bio import SeqIO\n",
    "from Bio.Seq import Seq\n",
    "import importlib\n",
    "from collections import defaultdict, OrderedDict\n",
    "\n",
    "import time\n",
    "\n",
    "try:\n",
    "        from tqdm import tqdm\n",
    "#         print('Imported tqdm')\n",
    "except:\n",
    "        def tqdm(x,ascii=False):\n",
    "                return x\n"
   ]
  },
  {
   "cell_type": "code",
   "execution_count": null,
   "metadata": {},
   "outputs": [],
   "source": [
    "%matplotlib notebook"
   ]
  },
  {
   "cell_type": "code",
   "execution_count": null,
   "metadata": {},
   "outputs": [],
   "source": [
    "import warnings\n",
    "warnings.simplefilter(\"ignore\")"
   ]
  },
  {
   "cell_type": "code",
   "execution_count": null,
   "metadata": {},
   "outputs": [],
   "source": [
    "delt = 1.0 #s\n",
    "odestep = 0.1 # s\n",
    "cythonBool = False\n",
    "totalTime = simulation_time #s"
   ]
  },
  {
   "cell_type": "code",
   "execution_count": null,
   "metadata": {},
   "outputs": [],
   "source": [
    "def initSim():\n",
    "\n",
    "    simFolder = '../simulations/' + simulation_folder_name + '/'\n",
    "    \n",
    "    try:\n",
    "        os.makedirs(simFolder)\n",
    "        print('Created sim directory')\n",
    "    except:\n",
    "        print('sim directory already exists')\n",
    "\n",
    "    filename = simFolder + 'MinCell_jLM_RDME_CME_ODE_polysomes.lm'\n",
    "\n",
    "    N_edges = 64 # Number of subvolumes making up and edge of the simulation space N x N x N\n",
    "\n",
    "    N_2 = N_edges/2\n",
    "\n",
    "    sim = RDMESim(\"JCVI-syn3A\",\n",
    "                  filename,\n",
    "                  [N_edges,N_edges,N_edges],\n",
    "                  8e-9,\n",
    "                  \"extracellular\")\n",
    "\n",
    "    cyto_radius = 2.00e-7/sim.latticeSpacing #m converted to lattice sites (8 nm lattice spacing)\n",
    "    dna_monomers = 46188\n",
    "\n",
    "    cyto_vol = (4/3)*np.pi*0.200**3\n",
    "\n",
    "    cyto_200 = (4/3)*np.pi*0.2**3\n",
    "\n",
    "    ptn_ratio = (2.3e6*cyto_vol)/(2.3e6*cyto_200)\n",
    "#     print(ptn_ratio)\n",
    "\n",
    "    riboFile = '../model_data/s1c15/s1c15_coords_nm_adaptive_fitting_s1c15_trans_id_8nm.txt'\n",
    "    \n",
    "    dnaFile = '../model_data/s1c15/s1c15_base_CG_reps00001_00090/s1c15_base/CG/s1c15_base_rep000' + DNA_configuration_number + '_CG_coords.dat'\n",
    "    dnaPartFile = '../model_data/s1c15/s1c15_base_CG_reps00001_00090/s1c15_base/CG/s1c15_base_rep000' + DNA_configuration_number + '_FG_nodes.dat'\n",
    "    \n",
    "    sim_center = [N_2,N_2,N_2]\n",
    "\n",
    "    sim.timestep = 30e-6\n",
    "    sim.simulationTime=totalTime\n",
    "    sim.latticeWriteInterval=1.0\n",
    "    sim.speciesWriteInterval=1.0\n",
    "    replicates = 1\n",
    "    \n",
    "#     sim.hookInterval(delt)\n",
    "    \n",
    "    pmap = {}\n",
    "    \n",
    "    PartIdxMap = {}\n",
    "    \n",
    "#     print('Configuration ' + str(rep+1) + '/' + str(len(configs)) + ' initialized')\n",
    "    print('Simulation Initialized')\n",
    "    \n",
    "    return sim, N_edges, N_2, sim_center, ptn_ratio, dna_monomers, cyto_radius, riboFile, dnaFile, dnaPartFile, filename, simFolder, PartIdxMap, pmap"
   ]
  },
  {
   "cell_type": "code",
   "execution_count": null,
   "metadata": {},
   "outputs": [],
   "source": [
    "### Load all necessary files\n",
    "# The reconstruction matches reactions with gene-protein-reactions (GPR) that use MMSYN1* IDs.\n",
    "reconstPD = pd.read_excel(\"../model_data/reconstruction.xlsx\", sheet_name='Reactions')\n",
    "\n",
    "# The annotation matches MMSYN1* IDs with JCVISYN3* IDs (or \"locus tags\").\n",
    "annotatPD = pd.read_excel(\"../model_data/FBA/Syn3A_annotation_compilation.xlsx\",\n",
    "                         sheet_name=\"Syn3A_annotation_compilation_condensed\")\n",
    "\n",
    "# The genome data matches \"locus tags\" with AOE* protein IDs.\n",
    "# It provides both the gene sequence, needed for transcription reactions in the ODE model,\n",
    "# and the protein sequence, needed for translation reactions in the model.\n",
    "# This is the NCBI Gene Bank-formated file (https://www.ncbi.nlm.nih.gov/nuccore/CP014992.1).\n",
    "\n",
    "genomeFile2 = '../model_data/syn2.gb'\n",
    "genome2 = next(SeqIO.parse(genomeFile2, \"gb\"))\n",
    "\n",
    "# This is the NCBI Gene Bank-formated file (https://www.ncbi.nlm.nih.gov/nuccore/CP016816.2).\n",
    "genomeFile3A = '../model_data/syn3A.gb'\n",
    "genome3A = next(SeqIO.parse(genomeFile3A, \"gb\"))\n",
    "\n",
    "# The proteomics matches AOE IDs with quantitative proteomics data.\n",
    "proteomPD = pd.read_excel(\"../model_data/proteomics.xlsx\", sheet_name=\"Proteomics\", skiprows=[0] )\n",
    "\n",
    "genome_syn3A = list(SeqIO.parse(genomeFile3A, \"genbank\"))\n",
    "dna3A = genome_syn3A[0]"
   ]
  },
  {
   "cell_type": "code",
   "execution_count": null,
   "metadata": {},
   "outputs": [],
   "source": [
    "def getSequences(jcvi3AID):\n",
    "    # returns genomic and protein sequences\n",
    "    try:\n",
    "        rnasequence = genomeLocDict[jcvi3AID].extract(genome3A.seq).transcribe()\n",
    "        \n",
    "        # Using translation table 4 from NCBI: \"Mycoplasma Code\"\n",
    "        # https://www.ncbi.nlm.nih.gov/Taxonomy/Utils/wprintgc.cgi#SG4\n",
    "        aasequence  = genomeLocDict[jcvi3AID].extract(genome3A.seq).transcribe().translate(table=4)\n",
    "        \n",
    "    except:\n",
    "        aasequence  = 0\n",
    "        rnasequence = 0\n",
    "    \n",
    "    return rnasequence, aasequence"
   ]
  },
  {
   "cell_type": "code",
   "execution_count": null,
   "metadata": {},
   "outputs": [],
   "source": [
    "def getRNAsequences(jcvi3AID):\n",
    "    # returns genomic and protein sequences\n",
    "    try:\n",
    "        rnasequence = genomeLocDict[jcvi3AID].extract(genome3A.seq).transcribe()\n",
    "        \n",
    "    except:\n",
    "        rnasequence = 0\n",
    "    \n",
    "    return rnasequence"
   ]
  },
  {
   "cell_type": "code",
   "execution_count": null,
   "metadata": {},
   "outputs": [],
   "source": [
    "AOEtoJ2 = dict()\n",
    "J2toAOE = dict()\n",
    "genomeLocDict = dict()\n",
    "genomePtnLocDict = dict()\n",
    "genomeRnaLocDict = dict()\n",
    "Locus3A = []\n",
    "\n",
    "for f in genome2.features:\n",
    "    if f.type == \"CDS\":\n",
    "        JCVSYN2_tag = f.qualifiers['locus_tag'][0]\n",
    "        #print(JCVSYN2_tag)\n",
    "        # Not all entries have an AOE protein_id\n",
    "        if('protein_id' in f.qualifiers.keys()):\n",
    "            AOE_locus = f.qualifiers['protein_id'][0]\n",
    "            AOEtoJ2[AOE_locus] = JCVSYN2_tag\n",
    "            J2toAOE[JCVSYN2_tag] = AOE_locus\n",
    "#             genomeLocDict[JCVSYN2_tag] = f.location\n",
    "        else:\n",
    "            print(\"Locus \", JCVSYN2_tag, \" has no AOE id!\")\n",
    "    if f.type == \"rRNA\":\n",
    "        JCVSYN2_tag = f.qualifiers['locus_tag'][0]\n",
    "#         genomeLocDict[JCVSYN2_tag] = f.location\n",
    "    if f.type == \"tRNA\":\n",
    "        JCVSYN2_tag = f.qualifiers['locus_tag'][0]\n",
    "#         genomeLocDict[JCVSYN2_tag] = f.location\n",
    "        \n",
    "for f in genome3A.features:\n",
    "    if f.type == \"CDS\":\n",
    "        JCVSYN3A_tag = f.qualifiers['locus_tag'][0]\n",
    "        Locus3A.append(JCVSYN3A_tag)\n",
    "        #print(JCVSYN2_tag)\n",
    "        # Not all entries have an AOE protein_id\n",
    "        if('protein_id' in f.qualifiers.keys()):\n",
    "#             AOE_locus = f.qualifiers['protein_id'][0]\n",
    "#             AOEtoJ2[AOE_locus] = JCVSYN2_tag\n",
    "#             J2toAOE[JCVSYN2_tag] = AOE_locus\n",
    "            genomePtnLocDict[JCVSYN3A_tag] = f.location\n",
    "            genomeLocDict[JCVSYN3A_tag] = f.location\n",
    "        else:\n",
    "            print(\"Locus \", JCVSYN3A_tag, \" is pseudo.\")\n",
    "    if f.type == \"rRNA\":\n",
    "        JCVSYN3A_tag = f.qualifiers['locus_tag'][0]\n",
    "        Locus3A.append(JCVSYN3A_tag)\n",
    "        genomeRnaLocDict[JCVSYN3A_tag] = f.location\n",
    "        genomeLocDict[JCVSYN3A_tag] = f.location\n",
    "    if f.type == \"tRNA\":\n",
    "        JCVSYN3A_tag = f.qualifiers['locus_tag'][0]\n",
    "        Locus3A.append(JCVSYN3A_tag)\n",
    "        genomeRnaLocDict[JCVSYN3A_tag] = f.location\n",
    "        genomeLocDict[JCVSYN3A_tag] = f.location"
   ]
  },
  {
   "cell_type": "code",
   "execution_count": null,
   "metadata": {},
   "outputs": [],
   "source": [
    "gene_list = []\n",
    "for i in range(len(dna3A.features)):\n",
    "    if ('product' in dna3A.features[i].qualifiers.keys()):\n",
    "        #print(i) # This first statement works\n",
    "        #print(dna.features[i].qualifiers['product'])\n",
    "        if dna3A.features[i].qualifiers['product'][0]:# Figure out how to sort out for ribosomal operons?\n",
    "            #print(dna.features[i].qualifiers['product'])\n",
    "            gene_list.append(i)\n",
    "# gene_list\n",
    "\n",
    "gene_starts = []\n",
    "\n",
    "for gene in gene_list:\n",
    "    \n",
    "    locusTag = dna3A.features[gene].qualifiers['locus_tag'][0]\n",
    "    gene_start = dna3A.features[gene].location.start.real\n",
    "    \n",
    "    direction = dna3A.features[gene].strand\n",
    "    \n",
    "    gene_starts.append([locusTag,gene_start,direction])\n",
    "    \n",
    "# gene_starts"
   ]
  },
  {
   "cell_type": "code",
   "execution_count": null,
   "metadata": {},
   "outputs": [],
   "source": [
    "PtnMetDF = pd.read_csv(\"../model_data/protein_metabolites_frac.csv\")\n",
    "# PtnMetDF"
   ]
  },
  {
   "cell_type": "code",
   "execution_count": null,
   "metadata": {},
   "outputs": [],
   "source": [
    "riboPtnMetDF = pd.read_csv(\"../model_data/ribo_protein_metabolites.csv\")\n",
    "# riboPtnMetDF"
   ]
  },
  {
   "cell_type": "code",
   "execution_count": null,
   "metadata": {},
   "outputs": [],
   "source": [
    "memPtnMetDF = pd.read_csv(\"../model_data/membrane_protein_metabolites.csv\")\n",
    "# memPtnMetDF"
   ]
  },
  {
   "cell_type": "code",
   "execution_count": null,
   "metadata": {},
   "outputs": [],
   "source": [
    "rrnaMetDF_1 = pd.read_csv(\"../model_data/rrna_metabolites_1.csv\")\n",
    "# rrnaMetDF_1"
   ]
  },
  {
   "cell_type": "code",
   "execution_count": null,
   "metadata": {},
   "outputs": [],
   "source": [
    "rrnaMetDF_2 = pd.read_csv(\"../model_data/rrna_metabolites_2.csv\")\n",
    "# rrnaMetDF_2"
   ]
  },
  {
   "cell_type": "code",
   "execution_count": null,
   "metadata": {},
   "outputs": [],
   "source": [
    "trnaMetDF = pd.read_csv(\"../model_data/trna_metabolites_synthase.csv\")\n",
    "# trnaMetDF"
   ]
  },
  {
   "cell_type": "code",
   "execution_count": null,
   "metadata": {},
   "outputs": [],
   "source": [
    "named_PTN_list = []\n",
    "\n",
    "for index, row in riboPtnMetDF.iterrows():\n",
    "    named_PTN_list.append(row[\"gene\"]) \n",
    "\n",
    "    \n",
    "for index, row in PtnMetDF.iterrows():\n",
    "#     print(row[\"gene\"])\n",
    "    named_PTN_list.append(row[\"gene\"])"
   ]
  },
  {
   "cell_type": "code",
   "execution_count": null,
   "metadata": {},
   "outputs": [],
   "source": [
    "trnaCmeMetDF = pd.read_csv(\"../model_data/trna_metabolites_synthase.csv\")"
   ]
  },
  {
   "cell_type": "code",
   "execution_count": null,
   "metadata": {},
   "outputs": [],
   "source": []
  },
  {
   "cell_type": "code",
   "execution_count": null,
   "metadata": {},
   "outputs": [],
   "source": [
    "from diffusion import *\n",
    "# from MC_CME import *\n",
    "from MC_RDME import * \n",
    "from regions_and_complexes import *\n",
    "from GIP_rates import *\n"
   ]
  },
  {
   "cell_type": "code",
   "execution_count": null,
   "metadata": {},
   "outputs": [],
   "source": [
    "rep = 1\n",
    "partIdx = 1\n",
    "\n",
    "sim, N_edges, N_2, sim_center, ptn_ratio, dna_monomers, cyto_radius, riboFile, dnaFile, dnaPartFile, filename, simFolder, PartIdxMap, pmap = initSim()\n",
    "    \n",
    "sim, genePoints, ribo_points, ribo_center_points, ext, mem, cyt, ribo, dna, she, cyto_shell, partIdx = buildRegions(sim, N_edges, N_2, sim_center, ptn_ratio, dna_monomers, cyto_radius, riboFile, dnaFile, filename, pmap, PartIdxMap, partIdx)\n",
    "\n",
    "# sim.finalize()"
   ]
  },
  {
   "cell_type": "code",
   "execution_count": null,
   "metadata": {},
   "outputs": [],
   "source": [
    "# sim.displayGeometry()"
   ]
  },
  {
   "cell_type": "code",
   "execution_count": null,
   "metadata": {},
   "outputs": [],
   "source": [
    "# break"
   ]
  },
  {
   "cell_type": "code",
   "execution_count": null,
   "metadata": {},
   "outputs": [],
   "source": [
    "sim, geneEnds, geneStarts, singleStatePtnDict, multiStatePtnDict, degDict, tRNAstateDict, RDME_species_list, partIdx, rtRNA_ID_dict, ordered_poly_ribo = constructRDME(sim, pmap, genePoints, ribo_points, ribo_center_points, ext, mem, cyt, ribo, dna, she, cyto_shell, N_edges, N_2, sim_center, ptn_ratio, dna_monomers, cyto_radius, dnaPartFile, gene_starts, PtnMetDF, riboPtnMetDF, memPtnMetDF, trnaMetDF, genomePtnLocDict, PartIdxMap, partIdx)"
   ]
  },
  {
   "cell_type": "code",
   "execution_count": null,
   "metadata": {},
   "outputs": [],
   "source": [
    "# print(len(pmap))\n",
    "print(pmap)"
   ]
  },
  {
   "cell_type": "code",
   "execution_count": null,
   "metadata": {},
   "outputs": [],
   "source": [
    "sim.showSpecies('R_1')\n"
   ]
  },
  {
   "cell_type": "code",
   "execution_count": null,
   "metadata": {},
   "outputs": [],
   "source": [
    "# sim.sp"
   ]
  },
  {
   "cell_type": "code",
   "execution_count": null,
   "metadata": {},
   "outputs": [],
   "source": [
    "print(partIdx)\n",
    "print(PartIdxMap)"
   ]
  },
  {
   "cell_type": "code",
   "execution_count": null,
   "metadata": {},
   "outputs": [],
   "source": [
    "specList = ''\n",
    "\n",
    "Idx_list = []\n",
    "\n",
    "for metID, idx in PartIdxMap.items():\n",
    "    \n",
    "    Idx_list.append(idx)\n",
    "    \n",
    "    specList = specList + ',' + metID"
   ]
  },
  {
   "cell_type": "code",
   "execution_count": null,
   "metadata": {},
   "outputs": [],
   "source": [
    "mistakes = 0\n",
    "\n",
    "for i in range(len(Idx_list)):\n",
    "    try:\n",
    "        if Idx_list[i+1] != Idx_list[i] + 1:\n",
    "            print(Idx_list[i+1],Idx_list[i],i)\n",
    "            mistakes = mistakes + 1\n",
    "    except:\n",
    "        print(i)\n",
    "print(mistakes)        \n",
    "print(len(specList))"
   ]
  },
  {
   "cell_type": "code",
   "execution_count": null,
   "metadata": {},
   "outputs": [],
   "source": [
    "sim"
   ]
  },
  {
   "cell_type": "code",
   "execution_count": null,
   "metadata": {},
   "outputs": [],
   "source": [
    "# break"
   ]
  },
  {
   "cell_type": "code",
   "execution_count": null,
   "metadata": {},
   "outputs": [],
   "source": [
    "import setICs\n",
    "setICs.__main__(pmap)"
   ]
  },
  {
   "cell_type": "code",
   "execution_count": null,
   "metadata": {},
   "outputs": [],
   "source": [
    "import hook\n",
    "rdmeCmeOdeHookSolver = hook.MyOwnSolver"
   ]
  },
  {
   "cell_type": "code",
   "execution_count": null,
   "metadata": {},
   "outputs": [],
   "source": [
    "Solver = makeSolver(IntMpdRdmeSolver, rdmeCmeOdeHookSolver)\n",
    "solver = Solver(sim, simFolder, delt, odestep, cythonBool, pmap, totalTime, geneEnds, geneStarts, singleStatePtnDict, multiStatePtnDict, degDict, tRNAstateDict, RDME_species_list, PartIdxMap, rtRNA_ID_dict, ordered_poly_ribo)"
   ]
  },
  {
   "cell_type": "code",
   "execution_count": null,
   "metadata": {},
   "outputs": [],
   "source": [
    "sim.finalize()"
   ]
  },
  {
   "cell_type": "code",
   "execution_count": null,
   "metadata": {
    "scrolled": true
   },
   "outputs": [],
   "source": [
    "# break"
   ]
  },
  {
   "cell_type": "code",
   "execution_count": null,
   "metadata": {
    "scrolled": true
   },
   "outputs": [],
   "source": [
    "sim.run(solver=solver, cudaDevices=[0])"
   ]
  },
  {
   "cell_type": "code",
   "execution_count": null,
   "metadata": {},
   "outputs": [],
   "source": []
  },
  {
   "cell_type": "code",
   "execution_count": null,
   "metadata": {},
   "outputs": [],
   "source": []
  },
  {
   "cell_type": "code",
   "execution_count": null,
   "metadata": {},
   "outputs": [],
   "source": []
  },
  {
   "cell_type": "code",
   "execution_count": null,
   "metadata": {},
   "outputs": [],
   "source": []
  },
  {
   "cell_type": "code",
   "execution_count": null,
   "metadata": {},
   "outputs": [],
   "source": []
  },
  {
   "cell_type": "code",
   "execution_count": null,
   "metadata": {},
   "outputs": [],
   "source": []
  },
  {
   "cell_type": "code",
   "execution_count": null,
   "metadata": {},
   "outputs": [],
   "source": []
  },
  {
   "cell_type": "code",
   "execution_count": null,
   "metadata": {},
   "outputs": [],
   "source": []
  },
  {
   "cell_type": "code",
   "execution_count": null,
   "metadata": {
    "scrolled": true
   },
   "outputs": [],
   "source": []
  },
  {
   "cell_type": "code",
   "execution_count": null,
   "metadata": {
    "scrolled": true
   },
   "outputs": [],
   "source": []
  },
  {
   "cell_type": "code",
   "execution_count": null,
   "metadata": {},
   "outputs": [],
   "source": []
  },
  {
   "cell_type": "code",
   "execution_count": null,
   "metadata": {},
   "outputs": [],
   "source": []
  },
  {
   "cell_type": "code",
   "execution_count": null,
   "metadata": {},
   "outputs": [],
   "source": []
  },
  {
   "cell_type": "code",
   "execution_count": null,
   "metadata": {},
   "outputs": [],
   "source": []
  },
  {
   "cell_type": "code",
   "execution_count": null,
   "metadata": {},
   "outputs": [],
   "source": []
  },
  {
   "cell_type": "code",
   "execution_count": null,
   "metadata": {},
   "outputs": [],
   "source": []
  },
  {
   "cell_type": "code",
   "execution_count": null,
   "metadata": {},
   "outputs": [],
   "source": []
  },
  {
   "cell_type": "code",
   "execution_count": null,
   "metadata": {},
   "outputs": [],
   "source": []
  },
  {
   "cell_type": "code",
   "execution_count": null,
   "metadata": {},
   "outputs": [],
   "source": []
  },
  {
   "cell_type": "code",
   "execution_count": null,
   "metadata": {},
   "outputs": [],
   "source": []
  },
  {
   "cell_type": "code",
   "execution_count": null,
   "metadata": {},
   "outputs": [],
   "source": []
  },
  {
   "cell_type": "code",
   "execution_count": null,
   "metadata": {},
   "outputs": [],
   "source": []
  },
  {
   "cell_type": "code",
   "execution_count": null,
   "metadata": {},
   "outputs": [],
   "source": []
  },
  {
   "cell_type": "code",
   "execution_count": null,
   "metadata": {},
   "outputs": [],
   "source": []
  },
  {
   "cell_type": "code",
   "execution_count": null,
   "metadata": {},
   "outputs": [],
   "source": []
  },
  {
   "cell_type": "code",
   "execution_count": null,
   "metadata": {},
   "outputs": [],
   "source": []
  },
  {
   "cell_type": "code",
   "execution_count": null,
   "metadata": {},
   "outputs": [],
   "source": []
  },
  {
   "cell_type": "code",
   "execution_count": null,
   "metadata": {},
   "outputs": [],
   "source": []
  },
  {
   "cell_type": "code",
   "execution_count": null,
   "metadata": {},
   "outputs": [],
   "source": []
  },
  {
   "cell_type": "code",
   "execution_count": null,
   "metadata": {},
   "outputs": [],
   "source": []
  },
  {
   "cell_type": "code",
   "execution_count": null,
   "metadata": {},
   "outputs": [],
   "source": []
  },
  {
   "cell_type": "code",
   "execution_count": null,
   "metadata": {},
   "outputs": [],
   "source": []
  },
  {
   "cell_type": "code",
   "execution_count": null,
   "metadata": {},
   "outputs": [],
   "source": []
  },
  {
   "cell_type": "code",
   "execution_count": null,
   "metadata": {},
   "outputs": [],
   "source": []
  },
  {
   "cell_type": "code",
   "execution_count": null,
   "metadata": {},
   "outputs": [],
   "source": []
  },
  {
   "cell_type": "code",
   "execution_count": null,
   "metadata": {},
   "outputs": [],
   "source": []
  },
  {
   "cell_type": "code",
   "execution_count": null,
   "metadata": {},
   "outputs": [],
   "source": []
  }
 ],
 "metadata": {
  "kernelspec": {
   "display_name": "Python 3",
   "language": "python",
   "name": "python3"
  },
  "language_info": {
   "codemirror_mode": {
    "name": "ipython",
    "version": 3
   },
   "file_extension": ".py",
   "mimetype": "text/x-python",
   "name": "python",
   "nbconvert_exporter": "python",
   "pygments_lexer": "ipython3",
   "version": "3.7.3"
  }
 },
 "nbformat": 4,
 "nbformat_minor": 4
}
