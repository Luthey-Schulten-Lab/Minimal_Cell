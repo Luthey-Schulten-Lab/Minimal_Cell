{
 "cells": [
  {
   "cell_type": "code",
   "execution_count": null,
   "metadata": {},
   "outputs": [],
   "source": [
    "from jLM.RegionBuilder import RegionBuilder\n",
    "from jLM.RDME import Sim as RDMESim\n",
    "from jLM.RDME import File as RDMEFile\n",
    "import jLM\n",
    "\n",
    "from jLM.Solvers import makeSolver\n",
    "\n",
    "from pyLM import CME\n",
    "\n",
    "from pyLM.units import *\n",
    "\n",
    "import lm\n",
    "\n",
    "from lm import MpdRdmeSolver\n",
    "from lm import IntMpdRdmeSolver\n",
    "\n",
    "import matplotlib.pyplot as plt\n",
    "from mpl_toolkits.mplot3d import Axes3D\n",
    "import numpy  as np\n",
    "\n",
    "import os\n",
    "\n",
    "import scipy.ndimage as spnd\n",
    "import ipywidgets as ipw\n",
    "import h5py\n",
    "import itertools\n",
    "import random\n",
    "import copy\n",
    "\n",
    "# import ipyvolume\n",
    "# from sidecar import Sidecar\n",
    "# import numpy as np\n",
    "# from ipywebrtc import WidgetStream, VideoRecorder\n",
    "\n",
    "import math\n",
    "import scipy as sp\n",
    "import scipy.spatial\n",
    "\n",
    "# import seaborn as sns\n",
    "\n",
    "import csv\n",
    "import pandas as pd\n",
    "from Bio import SeqIO\n",
    "from Bio.Seq import Seq\n",
    "import importlib\n",
    "from collections import defaultdict, OrderedDict\n",
    "\n",
    "import time\n",
    "\n",
    "try:\n",
    "        from tqdm import tqdm\n",
    "#         print('Imported tqdm')\n",
    "except:\n",
    "        def tqdm(x,ascii=False):\n",
    "                return x\n"
   ]
  },
  {
   "cell_type": "code",
   "execution_count": null,
   "metadata": {},
   "outputs": [],
   "source": []
  },
  {
   "cell_type": "code",
   "execution_count": null,
   "metadata": {},
   "outputs": [],
   "source": [
    "%matplotlib notebook"
   ]
  },
  {
   "cell_type": "code",
   "execution_count": null,
   "metadata": {},
   "outputs": [],
   "source": [
    "import warnings\n",
    "warnings.simplefilter(\"ignore\")"
   ]
  },
  {
   "cell_type": "code",
   "execution_count": null,
   "metadata": {},
   "outputs": [],
   "source": [
    "# configs = []\n",
    "\n",
    "# for i in range(1,10):\n",
    "# #str().zfill(5)\n",
    "#     dnaFile = '../model_data/syn3A_DNA_4nm_lattice_FGtoCG/08262020/s1c8_free_origin_rep0000' + str(i) + '_CG_coords.dat' #CG file\n",
    "\n",
    "#     dnaPartFile = '../model_data/syn3A_DNA_4nm_lattice_FGtoCG/08262020/s1c8_free_origin_rep0000' + str(i) + '_FG_nodes.dat' #CG occupancies\n",
    "\n",
    "#     configs.append([dnaFile,dnaPartFile])\n",
    "    \n",
    "# for i in range(1,10):\n",
    "# #str().zfill(5)\n",
    "#     dnaFile = '../model_data/syn3A_DNA_4nm_lattice_FGtoCG/08292020/s1c8_fixed_origin_rep0000' + str(i) + '_CG_coords.dat' #CG file\n",
    "\n",
    "#     dnaPartFile = '../model_data/syn3A_DNA_4nm_lattice_FGtoCG/08292020/s1c8_fixed_origin_rep0000' + str(i) + '_FG_nodes.dat' #CG occupancies\n",
    "\n",
    "#     configs.append([dnaFile,dnaPartFile])"
   ]
  },
  {
   "cell_type": "code",
   "execution_count": null,
   "metadata": {},
   "outputs": [],
   "source": [
    "# configs = []\n",
    "\n",
    "# for i in range(50,81):\n",
    "# #str().zfill(5)\n",
    "#     dnaFile = '../model_data/syn3A_DNA_4nm_lattice_FGtoCG/10062020/s1c8_free_origin_reps00051_00080_CG/s1c8_free_origin_rep000' + str(i) + '_CG_coords.dat' #CG file\n",
    "\n",
    "#     dnaPartFile = '../model_data/syn3A_DNA_4nm_lattice_FGtoCG/10062020/s1c8_free_origin_reps00051_00080_CG/s1c8_free_origin_rep000' + str(i) + '_FG_nodes.dat' #CG occupancies\n",
    "\n",
    "#     configs.append([dnaFile,dnaPartFile])\n",
    "    \n",
    "# for i in range(41,61):\n",
    "# #str().zfill(5)\n",
    "#     dnaFile = '../model_data/syn3A_DNA_4nm_lattice_FGtoCG/10062020/s1c8_free_origin_repulsive_reps00041_00060_CG/s1c8_free_origin_repulsive_rep000' + str(i) + '_CG_coords.dat' #CG file\n",
    "\n",
    "#     dnaPartFile = '../model_data/syn3A_DNA_4nm_lattice_FGtoCG/10062020/s1c8_free_origin_repulsive_reps00041_00060_CG/s1c8_free_origin_repulsive_rep000' + str(i) + '_FG_nodes.dat' #CG occupancies\n",
    "\n",
    "#     configs.append([dnaFile,dnaPartFile])\n",
    "    \n",
    "# configs"
   ]
  },
  {
   "cell_type": "code",
   "execution_count": null,
   "metadata": {},
   "outputs": [],
   "source": [
    "# break\n",
    "# configs = [['../model_data/syn3A_DNA_4nm_lattice_FGtoCG/09012020/s1c14_free_origin_rep00001_CG_coords.dat',\n",
    "#           '../model_data/syn3A_DNA_4nm_lattice_FGtoCG/09012020/s1c14_free_origin_rep00001_FG_nodes.dat']]"
   ]
  },
  {
   "cell_type": "code",
   "execution_count": null,
   "metadata": {},
   "outputs": [],
   "source": [
    "delt = 1.0 #s\n",
    "odestep = 0.1 # s\n",
    "cythonBool = False\n",
    "totalTime = 10.0 #s"
   ]
  },
  {
   "cell_type": "code",
   "execution_count": null,
   "metadata": {},
   "outputs": [],
   "source": [
    "def initSim():\n",
    "#     filename='./MinCell_jLM_RDME_CME_ODE_20min.lm'\n",
    "\n",
    "#     simFolder = './newpoly_500ribo_10/'\n",
    "    simFolder = './new_folder/'\n",
    "#     simFolder = './test_gpus/'\n",
    "#     simFolder = './looping_21/'\n",
    "    \n",
    "    try:\n",
    "        os.makedirs(simFolder)\n",
    "        print('Created sim directory')\n",
    "    except:\n",
    "        print('sim directory already exists')\n",
    "\n",
    "    filename = simFolder + 'MinCell_jLM_RDME_CME_ODE_polysomes.lm'\n",
    "\n",
    "    N_edges = 64 # Number of subvolumes making up and edge of the simulation space N x N x N\n",
    "\n",
    "    N_2 = N_edges/2\n",
    "\n",
    "    sim = RDMESim(\"JCVI-syn3A\",\n",
    "                  filename,\n",
    "                  [N_edges,N_edges,N_edges],\n",
    "                  8e-9,\n",
    "                  \"extracellular\")\n",
    "\n",
    "    cyto_radius = 2.00e-7/sim.latticeSpacing #m converted to lattice sites (8 nm lattice spacing)\n",
    "    dna_monomers = 46188\n",
    "\n",
    "    cyto_vol = (4/3)*np.pi*0.200**3\n",
    "\n",
    "    cyto_200 = (4/3)*np.pi*0.2**3\n",
    "\n",
    "    ptn_ratio = (2.3e6*cyto_vol)/(2.3e6*cyto_200)\n",
    "#     print(ptn_ratio)\n",
    "\n",
    "#     riboFile = '../model_data/syn3A_DNA_4nm_lattice_FGtoCG/08262020/s1c8_free_origin_rep00001_obst_CG.dat'\n",
    "    # riboFile = '../model_data/syn3A_DNA_4nm_lattice_FGtoCG/08292020/s1c8_fixed_origin_rep00001_obst_CG.dat'\n",
    "    riboFile = '../../model_data/s1c15/s1c15_coords_nm_adaptive_fitting_s1c15_trans_id_8nm.txt'\n",
    "#     riboFile = '../model_data/s1c15/s1c15_base_1000ribos_30reps/s1c15_base_1000ribos_rep00001_obst.dat'\n",
    "\n",
    "#     riboFile = '../model_data/syn3A_DNA_4nm_lattice_FGtoCG/08292020/s1c8_fixed_origin_rep00001_obst_CG.dat' \n",
    "#     riboFile = '../model_data/syn3A_DNA_4nm_lattice_FGtoCG/09012020/s1c14_coords_trans_id.txt'\n",
    "\n",
    "    dnaFile = '../../model_data/s1c15/s1c15_base_CG_reps00001_00090/s1c15_base/CG/s1c15_base_rep00034_CG_coords.dat'\n",
    "    dnaPartFile = '../../model_data/s1c15/s1c15_base_CG_reps00001_00090/s1c15_base/CG/s1c15_base_rep00034_FG_nodes.dat'\n",
    "\n",
    "#     dnaFile = '../model_data/s1c15/s1c15_base_1000ribos_30reps/CG/s1c15_base_1000ribos_rep00001_CG_coords.dat'\n",
    "#     dnaPartFile = '../model_data/s1c15/s1c15_base_1000ribos_30reps/CG/s1c15_base_1000ribos_rep00001_FG_nodes.dat'\n",
    "\n",
    "#     riboFile = '../model_data/s1c15/new_ribo/s1c15_base_new_rep00001_obst.dat'\n",
    "#     dnaFile = '../model_data/s1c15/new_ribo/s1c15_base_new_CG/CG/s1c15_base_new_rep00011_CG_coords.dat'\n",
    "#     dnaPartFile = '../model_data/s1c15/new_ribo/s1c15_base_new_CG/CG/s1c15_base_new_rep00011_FG_nodes.dat'\n",
    "\n",
    "#     dnaFile = '../model_data/s1c15/s1c15_4loops_CG/s1c15_loops_v4_rep00021_CG_coords.dat'\n",
    "#     dnaPartFile = '../model_data/s1c15/s1c15_4loops_CG/s1c15_loops_v4_rep00021_FG_nodes.dat'\n",
    "    \n",
    "#     dataFolder = '/home/zane/MinCell/LM_sims/model_data/s1c14/'\n",
    "\n",
    "#     riboFile = dataFolder + 's1c14_base_rep00001_obst_CG.dat'\n",
    "    \n",
    "#     dnaFile = dataFolder + 's1c14_2chrom00001_v7_CG/CG/s1c14_2chrom00001_v7_rep00002_CG_coords.dat'\n",
    "\n",
    "#     dnaPartFile = dataFolder + 's1c14_2chrom00001_v7_CG/CG/s1c14_2chrom00001_v7_rep00002_FG_nodes.dat'\n",
    "    \n",
    "    sim_center = [N_2,N_2,N_2]\n",
    "\n",
    "    sim.timestep = 30e-6\n",
    "    sim.simulationTime=totalTime\n",
    "    sim.latticeWriteInterval=1.0\n",
    "    sim.speciesWriteInterval=1.0\n",
    "    replicates = 1\n",
    "    \n",
    "#     sim.hookInterval(delt)\n",
    "    \n",
    "    pmap = {}\n",
    "    \n",
    "    PartIdxMap = {}\n",
    "    \n",
    "#     print('Configuration ' + str(rep+1) + '/' + str(len(configs)) + ' initialized')\n",
    "    print('Simulation Initialized')\n",
    "    \n",
    "    return sim, N_edges, N_2, sim_center, ptn_ratio, dna_monomers, cyto_radius, riboFile, dnaFile, dnaPartFile, filename, simFolder, PartIdxMap, pmap"
   ]
  },
  {
   "cell_type": "code",
   "execution_count": null,
   "metadata": {},
   "outputs": [],
   "source": [
    "### Load all necessary files\n",
    "# The reconstruction matches reactions with gene-protein-reactions (GPR) that use MMSYN1* IDs.\n",
    "reconstPD = pd.read_excel(\"../../model_data/reconstruction.xlsx\", sheet_name='Reactions')\n",
    "\n",
    "# The annotation matches MMSYN1* IDs with JCVISYN3* IDs (or \"locus tags\").\n",
    "annotatPD = pd.read_excel(\"../../model_data/FBA/Syn3A_annotation_compilation.xlsx\",\n",
    "                         sheet_name=\"Syn3A_annotation_compilation_condensed\")\n",
    "\n",
    "# The genome data matches \"locus tags\" with AOE* protein IDs.\n",
    "# It provides both the gene sequence, needed for transcription reactions in the ODE model,\n",
    "# and the protein sequence, needed for translation reactions in the model.\n",
    "# This is the NCBI Gene Bank-formated file (https://www.ncbi.nlm.nih.gov/nuccore/CP014992.1).\n",
    "\n",
    "genomeFile2 = '../../model_data/syn2.gb'\n",
    "genome2 = next(SeqIO.parse(genomeFile2, \"gb\"))\n",
    "\n",
    "# This is the NCBI Gene Bank-formated file (https://www.ncbi.nlm.nih.gov/nuccore/CP016816.2).\n",
    "genomeFile3A = '../../model_data/syn3A.gb'\n",
    "genome3A = next(SeqIO.parse(genomeFile3A, \"gb\"))\n",
    "\n",
    "# The proteomics matches AOE IDs with quantitative proteomics data.\n",
    "proteomPD = pd.read_excel(\"../../model_data/proteomics.xlsx\", sheet_name=\"Proteomics\", skiprows=[0] )\n",
    "\n",
    "genome_syn3A = list(SeqIO.parse(genomeFile3A, \"genbank\"))\n",
    "dna3A = genome_syn3A[0]"
   ]
  },
  {
   "cell_type": "code",
   "execution_count": null,
   "metadata": {},
   "outputs": [],
   "source": [
    "def getSequences(jcvi3AID):\n",
    "    # returns genomic and protein sequences\n",
    "    try:\n",
    "        rnasequence = genomeLocDict[jcvi3AID].extract(genome3A.seq).transcribe()\n",
    "        \n",
    "        # Using translation table 4 from NCBI: \"Mycoplasma Code\"\n",
    "        # https://www.ncbi.nlm.nih.gov/Taxonomy/Utils/wprintgc.cgi#SG4\n",
    "        aasequence  = genomeLocDict[jcvi3AID].extract(genome3A.seq).transcribe().translate(table=4)\n",
    "        \n",
    "    except:\n",
    "        aasequence  = 0\n",
    "        rnasequence = 0\n",
    "    \n",
    "    return rnasequence, aasequence"
   ]
  },
  {
   "cell_type": "code",
   "execution_count": null,
   "metadata": {},
   "outputs": [],
   "source": [
    "def getRNAsequences(jcvi3AID):\n",
    "    # returns genomic and protein sequences\n",
    "    try:\n",
    "        rnasequence = genomeLocDict[jcvi3AID].extract(genome3A.seq).transcribe()\n",
    "        \n",
    "    except:\n",
    "        rnasequence = 0\n",
    "    \n",
    "    return rnasequence"
   ]
  },
  {
   "cell_type": "code",
   "execution_count": null,
   "metadata": {},
   "outputs": [],
   "source": [
    "AOEtoJ2 = dict()\n",
    "J2toAOE = dict()\n",
    "genomeLocDict = dict()\n",
    "genomePtnLocDict = dict()\n",
    "genomeRnaLocDict = dict()\n",
    "Locus3A = []\n",
    "\n",
    "for f in genome2.features:\n",
    "    if f.type == \"CDS\":\n",
    "        JCVSYN2_tag = f.qualifiers['locus_tag'][0]\n",
    "        #print(JCVSYN2_tag)\n",
    "        # Not all entries have an AOE protein_id\n",
    "        if('protein_id' in f.qualifiers.keys()):\n",
    "            AOE_locus = f.qualifiers['protein_id'][0]\n",
    "            AOEtoJ2[AOE_locus] = JCVSYN2_tag\n",
    "            J2toAOE[JCVSYN2_tag] = AOE_locus\n",
    "#             genomeLocDict[JCVSYN2_tag] = f.location\n",
    "        else:\n",
    "            print(\"Locus \", JCVSYN2_tag, \" has no AOE id!\")\n",
    "    if f.type == \"rRNA\":\n",
    "        JCVSYN2_tag = f.qualifiers['locus_tag'][0]\n",
    "#         genomeLocDict[JCVSYN2_tag] = f.location\n",
    "    if f.type == \"tRNA\":\n",
    "        JCVSYN2_tag = f.qualifiers['locus_tag'][0]\n",
    "#         genomeLocDict[JCVSYN2_tag] = f.location\n",
    "        \n",
    "for f in genome3A.features:\n",
    "    if f.type == \"CDS\":\n",
    "        JCVSYN3A_tag = f.qualifiers['locus_tag'][0]\n",
    "        Locus3A.append(JCVSYN3A_tag)\n",
    "        #print(JCVSYN2_tag)\n",
    "        # Not all entries have an AOE protein_id\n",
    "        if('protein_id' in f.qualifiers.keys()):\n",
    "#             AOE_locus = f.qualifiers['protein_id'][0]\n",
    "#             AOEtoJ2[AOE_locus] = JCVSYN2_tag\n",
    "#             J2toAOE[JCVSYN2_tag] = AOE_locus\n",
    "            genomePtnLocDict[JCVSYN3A_tag] = f.location\n",
    "            genomeLocDict[JCVSYN3A_tag] = f.location\n",
    "        else:\n",
    "            print(\"Locus \", JCVSYN3A_tag, \" is pseudo.\")\n",
    "    if f.type == \"rRNA\":\n",
    "        JCVSYN3A_tag = f.qualifiers['locus_tag'][0]\n",
    "        Locus3A.append(JCVSYN3A_tag)\n",
    "        genomeRnaLocDict[JCVSYN3A_tag] = f.location\n",
    "        genomeLocDict[JCVSYN3A_tag] = f.location\n",
    "    if f.type == \"tRNA\":\n",
    "        JCVSYN3A_tag = f.qualifiers['locus_tag'][0]\n",
    "        Locus3A.append(JCVSYN3A_tag)\n",
    "        genomeRnaLocDict[JCVSYN3A_tag] = f.location\n",
    "        genomeLocDict[JCVSYN3A_tag] = f.location"
   ]
  },
  {
   "cell_type": "code",
   "execution_count": null,
   "metadata": {},
   "outputs": [],
   "source": [
    "gene_list = []\n",
    "for i in range(len(dna3A.features)):\n",
    "    if ('product' in dna3A.features[i].qualifiers.keys()):\n",
    "        #print(i) # This first statement works\n",
    "        #print(dna.features[i].qualifiers['product'])\n",
    "        if dna3A.features[i].qualifiers['product'][0]:# Figure out how to sort out for ribosomal operons?\n",
    "            #print(dna.features[i].qualifiers['product'])\n",
    "            gene_list.append(i)\n",
    "# gene_list\n",
    "\n",
    "gene_starts = []\n",
    "\n",
    "for gene in gene_list:\n",
    "    \n",
    "    locusTag = dna3A.features[gene].qualifiers['locus_tag'][0]\n",
    "    gene_start = dna3A.features[gene].location.start.real\n",
    "    \n",
    "    direction = dna3A.features[gene].strand\n",
    "    \n",
    "    gene_starts.append([locusTag,gene_start,direction])\n",
    "    \n",
    "# gene_starts"
   ]
  },
  {
   "cell_type": "code",
   "execution_count": null,
   "metadata": {},
   "outputs": [],
   "source": []
  },
  {
   "cell_type": "code",
   "execution_count": null,
   "metadata": {},
   "outputs": [],
   "source": []
  },
  {
   "cell_type": "code",
   "execution_count": null,
   "metadata": {},
   "outputs": [],
   "source": [
    "# Create list of proteins with no proteomics data\n",
    "ptnNoQuant = set()\n",
    "\n",
    "def getPtnCount(newMetID, jcvi2ID):\n",
    "    \n",
    "    # Check if protein quantification is available.\n",
    "    try:\n",
    "        if jcvi2ID.startswith(\"JCVIman_\"):\n",
    "            aoeID = manGPRPD.loc[ manGPRPD.MM == jcvi2ID.replace(\"JCVIman_\",\"\"), \"AOE\" ].values[0]\n",
    "        else:\n",
    "            aoeID = J2toAOE[ jcvi2ID ]\n",
    "        \n",
    "        ptnCount = max(defaultPtnCount,round(proteomPD.loc[ proteomPD.Protein == aoeID ].iloc[0,21]))\n",
    "#         \n",
    "        ptnName  = proteomPD.loc[ proteomPD.Protein == aoeID ].iloc[0,1].replace(\n",
    "            \" [synthetic bacterium JCVI-Syn3.0]\",\"\")\n",
    "        \n",
    "#         ptnConcentration = ptnCount*countToMiliMol\n",
    "    except:\n",
    "#         print(\"WARNING: No protein count for\", newMetID)\n",
    "#         print(\"Using default protein concentration.\")\n",
    "\n",
    "        ptnName = newMetID\n",
    "        ptnCount = defaultPtnCount\n",
    "#         ptnConcentration = defaultPtnConcentration\n",
    "\n",
    "        ptnNoQuant.add(newMetID)\n",
    "    \n",
    "    return ptnCount, ptnName"
   ]
  },
  {
   "cell_type": "code",
   "execution_count": null,
   "metadata": {},
   "outputs": [],
   "source": []
  },
  {
   "cell_type": "code",
   "execution_count": null,
   "metadata": {},
   "outputs": [],
   "source": []
  },
  {
   "cell_type": "code",
   "execution_count": null,
   "metadata": {},
   "outputs": [],
   "source": []
  },
  {
   "cell_type": "code",
   "execution_count": null,
   "metadata": {},
   "outputs": [],
   "source": []
  },
  {
   "cell_type": "code",
   "execution_count": null,
   "metadata": {},
   "outputs": [],
   "source": [
    "PtnMetDF = pd.read_csv(\"../../model_data/protein_metabolites_frac.csv\")\n",
    "PtnMetDF"
   ]
  },
  {
   "cell_type": "code",
   "execution_count": null,
   "metadata": {},
   "outputs": [],
   "source": [
    "riboPtnMetDF = pd.read_csv(\"../../model_data/ribo_protein_metabolites.csv\")\n",
    "riboPtnMetDF"
   ]
  },
  {
   "cell_type": "code",
   "execution_count": null,
   "metadata": {},
   "outputs": [],
   "source": [
    "memPtnMetDF = pd.read_csv(\"../../model_data/membrane_protein_metabolites.csv\")\n",
    "memPtnMetDF"
   ]
  },
  {
   "cell_type": "code",
   "execution_count": null,
   "metadata": {},
   "outputs": [],
   "source": [
    "RNApolPtnMetDF = pd.read_csv(\"../../model_data/RNApol_proteins.csv\")\n",
    "# RNApolPtnMetDF"
   ]
  },
  {
   "cell_type": "code",
   "execution_count": null,
   "metadata": {},
   "outputs": [],
   "source": [
    "MetPtnGenes = ['MMSYN1_0445', 'MMSYN1_0220',\n",
    " 'MMSYN1_0131', 'MMSYN1_0727', 'MMSYN1_0607',\n",
    " 'MMSYN1_0451', 'MMSYN1_0606', 'MMSYN1_0729',\n",
    " 'MMSYN1_0213', 'MMSYN1_0221', 'MMSYN1_0495',\n",
    " 'MMSYN1_0494', 'MMSYN1_0493', 'MMSYN1_0726',\n",
    " 'MMSYN1_0435', 'MMSYN1_0475', 'MMSYN1_0227',\n",
    " 'MMSYN1_0228', 'MMSYN1_0229', 'MMSYN1_0230',\n",
    " 'MMSYN1_0316', 'MMSYN1_0262', 'MMSYN1_0800',\n",
    " 'MMSYN1_0831', 'MMSYN1_0733', 'MMSYN1_0732',\n",
    " 'MMSYN1_0432', 'MMSYN1_0381', 'MMSYN1_0687',\n",
    " 'MMSYN1_0688', 'MMSYN1_0689', 'MMSYN1_0012',\n",
    " 'MMSYN1_0519', 'MMSYN1_0260', 'MMSYN1_0634',\n",
    " 'MMSYN1_0837', 'MMSYN1_0126', 'MMSYN1_0535',\n",
    " 'MMSYN1_0613', 'MMSYN1_0308', 'MMSYN1_0061',\n",
    " 'MMSYN1_0222', 'MMSYN1_0282', 'MMSYN1_0287',\n",
    " 'MMSYN1_0076', 'MMSYN1_0064', 'MMSYN1_0288',\n",
    " 'MMSYN1_0528', 'MMSYN1_0529', 'MMSYN1_0163',\n",
    " 'MMSYN1_0405', 'MMSYN1_0614', 'MMSYN1_0380',\n",
    " 'MMSYN1_0378', 'MMSYN1_0259', 'MMSYN1_0291',\n",
    " 'MMSYN1_0823', 'MMSYN1_0684', 'MMSYN1_0390',\n",
    " 'MMSYN1_0799', 'MMSYN1_0443', 'MMSYN1_0413',\n",
    " 'MMSYN1_0747', 'MMSYN1_0651', 'MMSYN1_0771',\n",
    " 'MMSYN1_0772', 'MMSYN1_0773', 'MMSYN1_0819',\n",
    " 'MMSYN1_0344', 'MMSYN1_0330', 'MMSYN1_0382',\n",
    " 'MMSYN1_0216', 'MMSYN1_0203', 'MMSYN1_0798',\n",
    " 'MMSYN1_0537', 'MMSYN1_0347', 'MMSYN1_0140',\n",
    " 'MMSYN1_0045', 'MMSYN1_0129', 'MMSYN1_0515',\n",
    " 'MMSYN1_0447', 'MMSYN1_0218', 'MMSYN1_0513',\n",
    " 'MMSYN1_0139', 'MMSYN1_0420', 'MMSYN1_0616',\n",
    " 'MMSYN1_0617', 'MMSYN1_0419', 'MMSYN1_0117',\n",
    " 'MMSYN1_0512', 'MMSYN1_0304', 'MMSYN1_0875',\n",
    " 'MMSYN1_0214', 'MMSYN1_0147', 'MMSYN1_0115',\n",
    " 'MMSYN1_0813', 'MMSYN1_0814', 'MMSYN1_0114',\n",
    " 'MMSYN1_0697', 'MMSYN1_0113']\n",
    "# MetPtnGenes\n",
    "\n",
    "MetLocusNums = []\n",
    "\n",
    "for gene in MetPtnGenes:\n",
    "    locusNum = gene.split('_')[1]\n",
    "    MetLocusNums.append(locusNum)\n",
    "    \n",
    "# MetLocusNums"
   ]
  },
  {
   "cell_type": "code",
   "execution_count": null,
   "metadata": {},
   "outputs": [],
   "source": [
    "rrnaMetDF_1 = pd.read_csv(\"../../model_data/rrna_metabolites_1.csv\")\n",
    "# rrnaMetDF_1"
   ]
  },
  {
   "cell_type": "code",
   "execution_count": null,
   "metadata": {},
   "outputs": [],
   "source": [
    "rrnaMetDF_2 = pd.read_csv(\"../../model_data/rrna_metabolites_2.csv\")\n",
    "# rrnaMetDF_2"
   ]
  },
  {
   "cell_type": "code",
   "execution_count": null,
   "metadata": {},
   "outputs": [],
   "source": [
    "trnaMetDF = pd.read_csv(\"../../model_data/trna_metabolites_synthase.csv\")\n",
    "# trnaMetDF"
   ]
  },
  {
   "cell_type": "code",
   "execution_count": null,
   "metadata": {},
   "outputs": [],
   "source": [
    "named_PTN_list = []\n",
    "\n",
    "for index, row in riboPtnMetDF.iterrows():\n",
    "    named_PTN_list.append(row[\"gene\"]) \n",
    "\n",
    "    \n",
    "for index, row in PtnMetDF.iterrows():\n",
    "    print(row[\"gene\"])\n",
    "    named_PTN_list.append(row[\"gene\"])"
   ]
  },
  {
   "cell_type": "code",
   "execution_count": null,
   "metadata": {},
   "outputs": [],
   "source": []
  },
  {
   "cell_type": "code",
   "execution_count": null,
   "metadata": {},
   "outputs": [],
   "source": [
    "baseMap = OrderedDict({ \"A\":\"M_atp_c\", \"U\":\"M_utp_c\", \"G\":\"M_gtp_c\", \"C\":\"M_ctp_c\" })\n",
    "# baseMapToMonoP = OrderedDict({ \"A\":\"M_amp_c\", \"U\":\"M_ump_c\", \"G\":\"M_gmp_c\", \"C\":\"M_cmp_c\" })\n",
    "\n",
    "# Global parameters for transcription\n",
    "rnaPolKcat = 20 # nt/s\n",
    "rnaPolK0 = 1e-4 #mM\n",
    "rnaPolKd = 0.01 #mM\n",
    "\n",
    "rrnaPolKcat = 85 # nt/s\n",
    "\n",
    "krnadeg = 0.00578/2 # 1/s\n",
    "# rna_deg_rate = sim.rateConst('RNAdeg', krnadeg, 2)\n",
    "\n",
    "ptnDegRate = 7.70e-06 # 1/s\n",
    "\n",
    "ATPconc = 1.04 #mM\n",
    "UTPconc = 0.68 #mM\n",
    "CTPconc = 0.34 #mM\n",
    "GTPconc = 0.68 #mM\n",
    "\n",
    "# Cell radius (meters):\n",
    "# r_cell = 2.5*(10**-7)\n",
    "r_cell = 2.0*(10**-7) # m\n",
    "\n",
    "CytoVolume = (4*np.pi/3)*1000*r_cell**3 # L\n",
    "cellVolume = CytoVolume\n",
    "\n",
    "subvolume_vol = 1000*(8e-9)**3 # L\n",
    "\n",
    "# print(cellVolume)\n",
    "\n",
    "# Avogadro:\n",
    "avgdr   = 6.022e23 # molec/mol\n",
    "Avognum = avgdr\n",
    "\n",
    "NaV = Avognum * subvolume_vol\n",
    "\n",
    "countToMiliMol = 1000/(avgdr*cellVolume)\n",
    "\n",
    "RnaPconc = 187*countToMiliMol # mM\n",
    "\n",
    "# Global parameter for degradation of mRNAs\n",
    "rnaDegRate = 0.00578/2 # 1/s\n",
    "\n",
    "# degrad_bind_rate = 11/60/countToMiliMol*1000 #1/M/s\n",
    "Ecoli_V = 1e-15 #L\n",
    "degrad_bind_rate = 11*avgdr*Ecoli_V/60/2400 #1/M/s\n",
    "\n",
    "# Create a map for rna sequence to NTP concentration.\n",
    "baseMap = OrderedDict({ \"A\":ATPconc, \"U\":UTPconc, \"G\":GTPconc, \"C\":CTPconc })\n",
    "\n",
    "# Create Dictionaries to map tRNAs to associated aa abbreviations in protein sequences.\n",
    "aaMap = OrderedDict({\"A\":\"M_ala__L_c\", \"R\":\"M_arg__L_c\", \n",
    "    \"N\":\"M_asn__L_c\", \"D\":\"M_asp__L_c\", \"C\":\"M_cys__L_c\", \"E\":\"M_glu__L_c\", \"Q\":\"M_gln__L_c\", \"G\":\"M_gly_c\", \n",
    "    \"H\":\"M_his__L_c\", \"I\":\"M_ile__L_c\", \"L\":\"M_leu__L_c\", \"K\":\"M_lys__L_c\", \"M\":\"M_met__L_c\", \"F\":\"M_phe__L_c\", \n",
    "    \"P\":\"M_pro__L_c\", \"S\":\"M_ser__L_c\", \"T\":\"M_thr__L_c\", \"W\":\"M_trp__L_c\", \"Y\":\"M_tyr__L_c\", \"V\":\"M_val__L_c\",\n",
    "    \"*\":\"Stop_Codon\"})\n",
    "\n",
    "aaTRNAMap = OrderedDict({\"A\":\"M_alatrna_c\", \"R\":\"M_argtrna_c\", \n",
    "    \"N\":\"M_asntrna_c\", \"D\":\"M_asptrna_c\", \"C\":\"M_cystrna_c\", \"E\":\"M_glutrna_c\", \"Q\":\"M_glntrna_c\", \"G\":\"M_glytrna_c\", \n",
    "    \"H\":\"M_histrna_c\", \"I\":\"M_iletrna_c\", \"L\":\"M_leutrna_c\", \"K\":\"M_lystrna_c\", \"M\":\"M_mettrna_c\", \"F\":\"M_phetrna_c\", \n",
    "    \"P\":\"M_protrna_c\", \"S\":\"M_sertrna_c\", \"T\":\"M_thrtrna_c\", \"W\":\"M_trptrna_c\", \"Y\":\"M_tyrtrna_c\", \"V\":\"M_valtrna_c\"})\n",
    "\n",
    "aaTRNAFreeMap = OrderedDict({\"A\":\"M_trnaala_c\", \"R\":\"M_trnaarg_c\", \n",
    "    \"N\":\"M_trnaasn_c\", \"D\":\"M_trnaasp_c\", \"C\":\"M_trnacys_c\", \"E\":\"M_trnaglu_c\", \"Q\":\"M_trnagln_c\", \"G\":\"M_trnagly_c\", \n",
    "    \"H\":\"M_trnahis_c\", \"I\":\"M_trnaile_c\", \"L\":\"M_trnaleu_c\", \"K\":\"M_trnalys_c\", \"M\":\"M_trnamet_c\", \"F\":\"M_trnaphe_c\", \n",
    "    \"P\":\"M_trnapro_c\", \"S\":\"M_trnaser_c\", \"T\":\"M_trnathr_c\", \"W\":\"M_trnatrp_c\", \"Y\":\"M_trnatyr_c\", \"V\":\"M_trnaval_c\"})\n",
    "\n",
    "\n",
    "defaultPtnCount = 1\n",
    "\n",
    "# Global parameters for translation\n",
    "riboKcat = 12 # 1/s\n",
    "riboK0 = 4*25e-6 # mM\n",
    "riboKd = 0.0001 # mM\n",
    "\n",
    "ribo_init = 5*Ecoli_V*avgdr/60/6800\n",
    "\n",
    "ribosomeConc = 500*countToMiliMol # mM\n",
    "\n",
    "# Concentration of charged tRNA\n",
    "ctRNAconc = 150*countToMiliMol # mM\n",
    "\n",
    "# Global parameter for degradation of proteins\n",
    "# Derived from eLife's model, using average protein half life of 25 hours. \n",
    "ptnDegRate = 7.70e-06 # 1/s\n",
    "\n"
   ]
  },
  {
   "cell_type": "code",
   "execution_count": null,
   "metadata": {},
   "outputs": [],
   "source": []
  },
  {
   "cell_type": "code",
   "execution_count": null,
   "metadata": {},
   "outputs": [],
   "source": []
  },
  {
   "cell_type": "code",
   "execution_count": null,
   "metadata": {},
   "outputs": [],
   "source": [
    "trnaCmeMetDF = pd.read_csv(\"../../model_data/trna_metabolites_synthase.csv\")"
   ]
  },
  {
   "cell_type": "code",
   "execution_count": null,
   "metadata": {},
   "outputs": [],
   "source": [
    "from diffusion import *\n",
    "# from MC_CME import *\n",
    "from MC_RDME_polysomes import * #_polysomes\n",
    "from regions_and_complexes_polysomes import * #_polysomes\n",
    "from GIP_rates import *\n",
    "# import hook as hook\n",
    "# import setICs as setICs"
   ]
  },
  {
   "cell_type": "code",
   "execution_count": null,
   "metadata": {},
   "outputs": [],
   "source": [
    "rep = 1\n",
    "partIdx = 1\n",
    "\n",
    "sim, N_edges, N_2, sim_center, ptn_ratio, dna_monomers, cyto_radius, riboFile, dnaFile, dnaPartFile, filename, simFolder, PartIdxMap, pmap = initSim()\n",
    "    \n",
    "sim, genePoints, ribo_points, ribo_center_points, ext, mem, cyt, ribo, dna, she, cyto_shell, partIdx = buildRegions(sim, N_edges, N_2, sim_center, ptn_ratio, dna_monomers, cyto_radius, riboFile, dnaFile, filename, pmap, PartIdxMap, partIdx)\n",
    "\n",
    "# sim.finalize()"
   ]
  },
  {
   "cell_type": "code",
   "execution_count": null,
   "metadata": {},
   "outputs": [],
   "source": [
    "# sim.displayGeometry()"
   ]
  },
  {
   "cell_type": "code",
   "execution_count": null,
   "metadata": {},
   "outputs": [],
   "source": [
    "# break"
   ]
  },
  {
   "cell_type": "code",
   "execution_count": null,
   "metadata": {},
   "outputs": [],
   "source": [
    "sim, geneEnds, geneStarts, singleStatePtnDict, multiStatePtnDict, degDict, tRNAstateDict, RDME_species_list, partIdx, rtRNA_ID_dict, ordered_poly_ribo = constructRDME(sim, pmap, genePoints, ribo_points, ribo_center_points, ext, mem, cyt, ribo, dna, she, cyto_shell, N_edges, N_2, sim_center, ptn_ratio, dna_monomers, cyto_radius, dnaPartFile, gene_starts, PtnMetDF, riboPtnMetDF, memPtnMetDF, trnaMetDF, genomePtnLocDict, PartIdxMap, partIdx)"
   ]
  },
  {
   "cell_type": "code",
   "execution_count": null,
   "metadata": {},
   "outputs": [],
   "source": [
    "# print(len(pmap))\n",
    "print(pmap)"
   ]
  },
  {
   "cell_type": "code",
   "execution_count": null,
   "metadata": {},
   "outputs": [],
   "source": [
    "sim.showSpecies('R_1')\n",
    "# sim.showSpecies('PolysomeMid')\n",
    "# sim.showSpecies('PTN_0909')\n",
    "# sim.sp"
   ]
  },
  {
   "cell_type": "code",
   "execution_count": null,
   "metadata": {},
   "outputs": [],
   "source": [
    "# sim.sp"
   ]
  },
  {
   "cell_type": "code",
   "execution_count": null,
   "metadata": {},
   "outputs": [],
   "source": [
    "print(partIdx)\n",
    "print(PartIdxMap)"
   ]
  },
  {
   "cell_type": "code",
   "execution_count": null,
   "metadata": {},
   "outputs": [],
   "source": [
    "specList = ''\n",
    "\n",
    "Idx_list = []\n",
    "\n",
    "for metID, idx in PartIdxMap.items():\n",
    "    \n",
    "    Idx_list.append(idx)\n",
    "    \n",
    "    specList = specList + ',' + metID"
   ]
  },
  {
   "cell_type": "code",
   "execution_count": null,
   "metadata": {},
   "outputs": [],
   "source": [
    "mistakes = 0\n",
    "\n",
    "for i in range(len(Idx_list)):\n",
    "    try:\n",
    "        if Idx_list[i+1] != Idx_list[i] + 1:\n",
    "            print(Idx_list[i+1],Idx_list[i],i)\n",
    "            mistakes = mistakes + 1\n",
    "    except:\n",
    "        print(i)\n",
    "print(mistakes)        \n",
    "print(len(specList))"
   ]
  },
  {
   "cell_type": "code",
   "execution_count": null,
   "metadata": {},
   "outputs": [],
   "source": [
    "sim"
   ]
  },
  {
   "cell_type": "code",
   "execution_count": null,
   "metadata": {},
   "outputs": [],
   "source": [
    "# mp = 1\n",
    "\n",
    "# rnum = mp+1\n",
    "            \n",
    "# ribo_letter = chr(ord('`')+rnum)\n",
    "\n",
    "# str(ribo_letter)"
   ]
  },
  {
   "cell_type": "code",
   "execution_count": null,
   "metadata": {},
   "outputs": [],
   "source": [
    "# break"
   ]
  },
  {
   "cell_type": "code",
   "execution_count": null,
   "metadata": {},
   "outputs": [],
   "source": [
    "import setICs\n",
    "setICs.__main__(pmap)"
   ]
  },
  {
   "cell_type": "code",
   "execution_count": null,
   "metadata": {},
   "outputs": [],
   "source": [
    "import hook_polysomes as hook\n",
    "rdmeCmeOdeHookSolver = hook.MyOwnSolver"
   ]
  },
  {
   "cell_type": "code",
   "execution_count": null,
   "metadata": {},
   "outputs": [],
   "source": [
    "Solver = makeSolver(IntMpdRdmeSolver, rdmeCmeOdeHookSolver)\n",
    "solver = Solver(sim, simFolder, delt, odestep, cythonBool, pmap, totalTime, geneEnds, geneStarts, singleStatePtnDict, multiStatePtnDict, degDict, tRNAstateDict, RDME_species_list, PartIdxMap, rtRNA_ID_dict, ordered_poly_ribo)"
   ]
  },
  {
   "cell_type": "code",
   "execution_count": null,
   "metadata": {},
   "outputs": [],
   "source": [
    "sim.finalize()"
   ]
  },
  {
   "cell_type": "code",
   "execution_count": null,
   "metadata": {
    "scrolled": true
   },
   "outputs": [],
   "source": [
    "# break"
   ]
  },
  {
   "cell_type": "code",
   "execution_count": null,
   "metadata": {
    "scrolled": true
   },
   "outputs": [],
   "source": [
    "sim.run(solver=solver, cudaDevices=[0])"
   ]
  },
  {
   "cell_type": "code",
   "execution_count": null,
   "metadata": {},
   "outputs": [],
   "source": [
    "break"
   ]
  },
  {
   "cell_type": "code",
   "execution_count": null,
   "metadata": {},
   "outputs": [],
   "source": [
    "# multiStatePtnDict"
   ]
  },
  {
   "cell_type": "code",
   "execution_count": null,
   "metadata": {},
   "outputs": [],
   "source": [
    "# for i in range(len(configs)):\n",
    "    \n",
    "#     rep = i\n",
    "\n",
    "#     sim, N_edges, N_2, sim_center, ptn_ratio, dna_monomers, cyto_radius, riboFile, filename, pmap = initSim(rep)\n",
    "    \n",
    "#     sim, genePoints, ribo_points, ribo_center_points, ext, mem, cyt, ribo, dna, she, cyto_shell = buildGeom(sim, rep)\n",
    "\n",
    "#     constructRDME(sim, pmap, genePoints, ribo_points, ribo_center_points, ext, mem, cyt, ribo, dna, she, cyto_shell)\n",
    "    \n",
    "#     sim.finalize()\n",
    "    \n",
    "# #     replicates = 1\n",
    "\n",
    "# #     for r in tqdm(range(1, replicates+1),ascii=True):\n",
    "# #         lm.runSolver(filename, r, solver=IntMpdRdmeSolver(), cudaDevices=[0], checkpointInterval=0)"
   ]
  },
  {
   "cell_type": "code",
   "execution_count": null,
   "metadata": {},
   "outputs": [],
   "source": [
    "break"
   ]
  },
  {
   "cell_type": "code",
   "execution_count": null,
   "metadata": {},
   "outputs": [],
   "source": [
    "geneStarts"
   ]
  },
  {
   "cell_type": "code",
   "execution_count": null,
   "metadata": {},
   "outputs": [],
   "source": [
    "geneEnds"
   ]
  },
  {
   "cell_type": "code",
   "execution_count": null,
   "metadata": {},
   "outputs": [],
   "source": [
    "# sim.displayGeometry(mode = 'download_html')"
   ]
  },
  {
   "cell_type": "code",
   "execution_count": null,
   "metadata": {
    "scrolled": true
   },
   "outputs": [],
   "source": [
    "# sim"
   ]
  },
  {
   "cell_type": "code",
   "execution_count": null,
   "metadata": {
    "scrolled": true
   },
   "outputs": [],
   "source": [
    "# sim.showSpecies('M_trnatyr_c')\n",
    "# sim.showSpecies('M_rRNA_16S_c')"
   ]
  },
  {
   "cell_type": "code",
   "execution_count": null,
   "metadata": {},
   "outputs": [],
   "source": [
    "# sim.showSpecies('PTN_0910')"
   ]
  },
  {
   "cell_type": "code",
   "execution_count": null,
   "metadata": {},
   "outputs": [],
   "source": [
    "# sim.showSpecies('RNA_0001')"
   ]
  },
  {
   "cell_type": "code",
   "execution_count": null,
   "metadata": {},
   "outputs": [],
   "source": [
    "# sim.showSpecies('RNApol')"
   ]
  },
  {
   "cell_type": "code",
   "execution_count": null,
   "metadata": {},
   "outputs": [],
   "source": [
    "break"
   ]
  },
  {
   "cell_type": "code",
   "execution_count": null,
   "metadata": {},
   "outputs": [],
   "source": [
    "# os.system(\"rm -rf %s\"%(filename))\n",
    "# # os.system(\"ls\")\n",
    "# print('Deleted previous save of', filename)"
   ]
  },
  {
   "cell_type": "code",
   "execution_count": null,
   "metadata": {},
   "outputs": [],
   "source": [
    "sim.finalize()"
   ]
  },
  {
   "cell_type": "code",
   "execution_count": null,
   "metadata": {},
   "outputs": [],
   "source": [
    "start = time.time()"
   ]
  },
  {
   "cell_type": "code",
   "execution_count": null,
   "metadata": {},
   "outputs": [],
   "source": [
    "# sim.run(solver=IntMpdRdmeSolver(),replicate=replicates)"
   ]
  },
  {
   "cell_type": "code",
   "execution_count": null,
   "metadata": {},
   "outputs": [],
   "source": [
    "# solver =  MpdRdmeSolver\n",
    "solver =  IntMpdRdmeSolver\n",
    "checkpointInterval=0\n",
    "cudaDevices = [0]\n",
    "\n",
    "for r in tqdm(range(1, replicates+1),ascii=True):\n",
    "#     LMLogger.debug(\"  Running replicate: %d\"%(r))\n",
    "    lm.runSolver(filename, r, solver=IntMpdRdmeSolver(), cudaDevices=[0], checkpointInterval=0)\n",
    "    # update internal state with replicates that have been run\n",
    "#     self.replicates.append(r)"
   ]
  },
  {
   "cell_type": "code",
   "execution_count": null,
   "metadata": {},
   "outputs": [],
   "source": [
    "finish = time.time()\n",
    "total_time = (finish - start)/60\n",
    "print('Simulation time:',total_time,'minutes')"
   ]
  },
  {
   "cell_type": "code",
   "execution_count": null,
   "metadata": {},
   "outputs": [],
   "source": [
    "traj = RDMEFile(filename)\n",
    "# traj = RDMEFile('MinCell_jLM_600s_1.lm')\n",
    "# traj = RDMEFile('MinCell_jLM_600s_2.lm')\n",
    "# traj = RDMEFile('MinCell_jLM_600s_3.lm')\n",
    "# traj = RDMEFile('MinCell_jLM_600s_4.lm')\n",
    "# traj = RDMEFile('MinCell_jLM_600s_5.lm')"
   ]
  },
  {
   "cell_type": "code",
   "execution_count": null,
   "metadata": {},
   "outputs": [],
   "source": [
    "configs = 1\n",
    "\n",
    "trajs = []\n",
    "\n",
    "for rep in range(configs):\n",
    "#     filename='./Data/s1c8/MinCell_jLM_120s_s1c8_geom' + str(rep+1) + '_newparams.lm'\n",
    "    filename = './MinCell_jLM_RDME_CME_ODE_20min.lm' #'./20min_success_' + str(rep+1) + \n",
    "    traj = RDMEFile(filename,replicate=1)\n",
    "    trajs.append(traj)\n",
    "\n"
   ]
  },
  {
   "cell_type": "code",
   "execution_count": null,
   "metadata": {},
   "outputs": [],
   "source": [
    "def pltAvgRna(RnaName,RiboName,DegName):\n",
    "    \n",
    "    RNAcount = np.zeros(41)\n",
    "    \n",
    "    for i in range(configs):\n",
    "        \n",
    "        t, Rcount = trajs[i].getNumberTrajectory(species = trajs[i].species(RnaName))\n",
    "        \n",
    "        RNAcount = RNAcount + Rcount\n",
    "    \n",
    "        t, RRcount = trajs[i].getNumberTrajectory(species = trajs[i].species(RiboName))\n",
    "        \n",
    "        RNAcount = RNAcount + RRcount\n",
    "    \n",
    "        t, RDEGcount = trajs[i].getNumberTrajectory(species = trajs[i].species(DegName))\n",
    "    \n",
    "        RNAcount = RNAcount + RDEGcount\n",
    "    \n",
    "    RNAcount = RNAcount/configs\n",
    "    \n",
    "    return t, RNAcount\n",
    "\n",
    "def pltAvgSpec(specName):\n",
    "    \n",
    "    Count = np.zeros(1201)\n",
    "    \n",
    "    for i in range(configs):\n",
    "        \n",
    "        t, Rcount = trajs[i].getNumberTrajectory(species = trajs[i].species(specName))\n",
    "        \n",
    "        Count = Count + Rcount\n",
    "    \n",
    "    Count = Count/configs\n",
    "    \n",
    "    return t, Count    \n",
    "\n",
    "\n",
    "def pltAvgPtn(specName):\n",
    "    \n",
    "    Count = np.zeros(1201)\n",
    "    \n",
    "    for i in range(configs):\n",
    "        \n",
    "        t, Rcount = trajs[i].getNumberTrajectory(species = trajs[i].species(specName))\n",
    "        \n",
    "        Count = Count + Rcount\n",
    "    \n",
    "    Count = Count/configs\n",
    "    \n",
    "    return t, Count \n",
    "    "
   ]
  },
  {
   "cell_type": "code",
   "execution_count": null,
   "metadata": {},
   "outputs": [],
   "source": [
    "plt.figure(figsize=(8,6))\n",
    "inPlot = 0\n",
    "\n",
    "total_mRNA = 0\n",
    "\n",
    "for locusTag in genomePtnLocDict:\n",
    "    locusNum = locusTag.split('_')[1]\n",
    "    rnaID = 'RNA_' + locusNum\n",
    "    riboName = 'Ribo_' + locusNum\n",
    "    degName = 'Deg_' + locusNum\n",
    "    t, avgCnt = pltAvgRna(rnaID,riboName,degName)\n",
    "    total_mRNA = total_mRNA + avgCnt[-1]\n",
    "    plt.plot(t/60, avgCnt)\n",
    "    inPlot = inPlot + 1\n",
    "\n",
    "print(inPlot)\n",
    "print(total_mRNA)\n",
    "    \n",
    "plt.xlabel('Time (min)')\n",
    "plt.ylabel('Average mRNA Count')\n",
    "plt.show()"
   ]
  },
  {
   "cell_type": "code",
   "execution_count": null,
   "metadata": {},
   "outputs": [],
   "source": [
    "t, n = traj.getNumberTrajectory(species = traj.sp.RNA_0475)\n",
    "t2, n2 = traj.getNumberTrajectory(species = traj.sp.Ribo_0475)\n",
    "t3, n3 = traj.getNumberTrajectory(species = traj.sp.Deg_0475)\n",
    "plt.plot(t, n+n2+n3)\n",
    "plt.xlabel('Time (sec)')\n",
    "plt.ylabel('mRNA Count')\n",
    "plt.show()"
   ]
  },
  {
   "cell_type": "code",
   "execution_count": null,
   "metadata": {},
   "outputs": [],
   "source": [
    "t, n = traj.getNumberTrajectory(species = traj.sp.PTN_0475)\n",
    "plt.plot(t, n)\n",
    "plt.xlabel('Time (sec)')\n",
    "plt.ylabel('Protein Count')\n",
    "plt.show()"
   ]
  },
  {
   "cell_type": "code",
   "execution_count": null,
   "metadata": {},
   "outputs": [],
   "source": [
    "# t, n = traj.getNumberTrajectory(species = traj.sp.M_rRNA_16S_c)\n",
    "# t, n = traj.getNumberTrajectory(species = traj.sp.M_trnaala_c)\n",
    "t, n = traj.getNumberTrajectory(species = traj.sp.gene_0533)\n",
    "plt.plot(t, n)\n",
    "plt.xlabel('Time (sec)')\n",
    "plt.ylabel('Protein Count')\n",
    "plt.show()"
   ]
  },
  {
   "cell_type": "code",
   "execution_count": null,
   "metadata": {},
   "outputs": [],
   "source": [
    "sim.siteLattice"
   ]
  },
  {
   "cell_type": "code",
   "execution_count": null,
   "metadata": {},
   "outputs": [],
   "source": [
    "sim.particleLattice"
   ]
  },
  {
   "cell_type": "code",
   "execution_count": null,
   "metadata": {},
   "outputs": [],
   "source": [
    "# visualization = sim.displayGeometry()\n",
    "# visualization"
   ]
  },
  {
   "cell_type": "code",
   "execution_count": null,
   "metadata": {},
   "outputs": [],
   "source": [
    "# test = h5py.File(filename,\"r\")\n",
    "\n",
    "# data = [n for n in test.keys()]\n",
    "\n",
    "# for n in data:\n",
    "#     print(n)"
   ]
  },
  {
   "cell_type": "code",
   "execution_count": null,
   "metadata": {},
   "outputs": [],
   "source": [
    "# latt = test.get('Model/Diffusion/Lattice')"
   ]
  },
  {
   "cell_type": "code",
   "execution_count": null,
   "metadata": {},
   "outputs": [],
   "source": [
    "# latt"
   ]
  },
  {
   "cell_type": "code",
   "execution_count": null,
   "metadata": {},
   "outputs": [],
   "source": [
    "RDMEFile(filename)"
   ]
  },
  {
   "cell_type": "code",
   "execution_count": null,
   "metadata": {},
   "outputs": [],
   "source": [
    "# RDMEFile('MinCell_jLM_1200s_RG_rtRNA_5rep_3.lm')"
   ]
  },
  {
   "cell_type": "code",
   "execution_count": null,
   "metadata": {},
   "outputs": [],
   "source": []
  },
  {
   "cell_type": "code",
   "execution_count": null,
   "metadata": {},
   "outputs": [],
   "source": []
  }
 ],
 "metadata": {
  "kernelspec": {
   "display_name": "Python 3",
   "language": "python",
   "name": "python3"
  },
  "language_info": {
   "codemirror_mode": {
    "name": "ipython",
    "version": 3
   },
   "file_extension": ".py",
   "mimetype": "text/x-python",
   "name": "python",
   "nbconvert_exporter": "python",
   "pygments_lexer": "ipython3",
   "version": "3.7.3"
  }
 },
 "nbformat": 4,
 "nbformat_minor": 4
}
