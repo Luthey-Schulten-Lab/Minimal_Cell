{
 "cells": [
  {
   "cell_type": "markdown",
   "metadata": {},
   "source": [
    "# Creating an ODE model"
   ]
  },
  {
   "cell_type": "code",
   "execution_count": null,
   "metadata": {},
   "outputs": [],
   "source": [
    "\n",
    "import importlib\n",
    "from odecell import modelbuilder, solver, paropt\n",
    "importlib.reload(modelbuilder)\n",
    "importlib.reload(solver)\n",
    "importlib.reload(paropt)\n",
    "\n",
    "from scipy import integrate\n",
    "from copy import deepcopy\n",
    "import numpy as np\n",
    "import pandas as pd\n",
    "import cobra\n",
    "from pickle import load, dump\n",
    "import time, csv\n",
    "\n",
    "%matplotlib notebook\n",
    "\n",
    "import matplotlib\n",
    "import matplotlib.pyplot as plt\n",
    "matplotlib.style.use('ggplot')\n",
    "\n",
    "print(\"\\n----------  Building ODE Model ---------------\\n\")\n",
    "\n",
    "model = modelbuilder.MetabolicModel()\n",
    "model.setVerbosity(2)\n",
    "\n",
    "#metIndx = model.addMetabolite(\"A_out\",\"Extracellular A\", 0.1)\n",
    "metIndx = model.addMetabolite(\"A_in\",\"Intracellular A\", 0.1)\n",
    "metIndx = model.addMetabolite(\"B\",\"Intracellular B\", 0.01)\n",
    "metIndx = model.addMetabolite(\"C\",\"Intracellular C\", 0.02)\n",
    "metIndx = model.addMetabolite(\"D\",\"Intracellular D\", 0.01)\n",
    "metIndx = model.addMetabolite(\"E\",\"Intracellular E\", 0.02)\n",
    "metIndx = model.addMetabolite(\"F\",\"Intracellular F\", 0.02)\n",
    "\n",
    "rxnIndx = model.addReaction(\"NewA\",\"zeroOrder\",\"Creation of intracellular A\")\n",
    "model.addParameter(rxnIndx, \"K\", 0.1, lb=0, ub=0, unit=\"\", parName=\"\")\n",
    "model.addProduct(rxnIndx,\"Prod1\",\"A_in\")\n",
    "#model.getReaction(rxnIndx).setCheckRxn(False) # Overides check for presence of Substrate and Product.\n",
    "\n",
    "rxnIndx = model.addReaction(\"AtoB\",\"firstOrder\",\"Conversion of A to B\")\n",
    "model.addSubstrate(rxnIndx, \"Sub1\", \"A_in\")\n",
    "model.addParameter(rxnIndx, \"K\", 0.1)\n",
    "model.addProduct(rxnIndx,\"Prod1\",\"B\")\n",
    "\n",
    "rxnIndx = model.addReaction(\"BtoCD\",\"firstOrder\",\"Conversion of B to C and D\")\n",
    "model.addSubstrate(rxnIndx, \"Sub1\", \"B\")\n",
    "model.addParameter(rxnIndx, \"K\", 0.1)\n",
    "model.addProduct(rxnIndx,\"Prod1\",\"C\")\n",
    "model.addProduct(rxnIndx,\"Prod2\",\"D\")\n",
    "\n",
    "rxnIndx = model.addReaction(\"CDtoE\",\"secondOrder\",\"Conversion of C and D to E\")\n",
    "model.addSubstrate(rxnIndx, \"Sub1\", \"C\")\n",
    "model.addSubstrate(rxnIndx, \"Sub2\", \"D\")\n",
    "model.addParameter(rxnIndx, \"K\", 0.5, lb=0, ub=10, unit=\"1/min\", parName=\"CDtoE const\")\n",
    "model.addProduct(rxnIndx,\"Prod1\",\"E\")\n",
    "\n",
    "rxnIndx = model.addReaction(\"DtoF\",\"firstOrder\",\"Conversion of D to F\")\n",
    "model.addSubstrate(rxnIndx, \"Sub1\", \"D\")\n",
    "model.addParameter(rxnIndx, \"K\", 0.1, lb=0, ub=10, unit=\"\", parName=\"DtoF const\")\n",
    "model.addProduct(rxnIndx,\"Prod1\",\"F\")\n",
    "\n",
    "rxnIndx = model.addReaction(\"RemoveC\",\"firstOrder\",\"Secretion of intracellular C\")\n",
    "model.addSubstrate(rxnIndx, \"Sub1\", \"C\")\n",
    "model.addParameter(rxnIndx, \"K\", 0.2, lb=0, ub=10, unit=\"\", parName=\"Sec C\")\n",
    "\n",
    "rxnIndx = model.addReaction(\"RemoveE\",\"firstOrder\",\"Secretion of intracellular E\")\n",
    "model.addSubstrate(rxnIndx, \"Sub1\", \"E\")\n",
    "model.addParameter(rxnIndx, \"K\", 0.1, lb=0, ub=10, unit=\"\", parName=\"Sec E\")\n",
    "\n",
    "rxnIndx = model.addReaction(\"RemoveF\",\"firstOrder\",\"Secretion of intracellular F\")\n",
    "model.addSubstrate(rxnIndx, \"Sub1\", \"F\")\n",
    "model.addParameter(rxnIndx, \"K\", 0.1, lb=0, ub=10, unit=\"\", parName=\"Sec F\")\n",
    "\n",
    "print(\"\\n----------  Building and Saving COBRA model ---------------\\n\")\n",
    "\n",
    "# Creates and saves the model in cobra format.\n",
    "#cobraModel = model.buildCobraModel(\"testModel\")\n",
    "#cobra.io.save_json_model(cobraModel,\"testModel.json\")\n",
    "\n",
    "print(\"\\n----------  Preparing Solver ---------------\\n\")\n",
    "\n",
    "solv = solver.ModelSolver(model)\n",
    "rxnIdList = solv.buildCall(verbose=2, odeint=True, useJac=True, transpJac=True)\n",
    "\n",
    "print(rxnIdList)"
   ]
  },
  {
   "cell_type": "markdown",
   "metadata": {},
   "source": [
    "# Ploting in Escher"
   ]
  },
  {
   "cell_type": "markdown",
   "metadata": {},
   "source": [
    "Using the cobra model built in the previous step, we can create an Escher model for easy visualization of simualtion results."
   ]
  },
  {
   "cell_type": "code",
   "execution_count": null,
   "metadata": {},
   "outputs": [],
   "source": [
    "import escher\n",
    "import escher.urls\n",
    "import json\n",
    "import os\n",
    "from IPython.display import HTML\n",
    "\n",
    "b = escher.Builder(map_json=\"toyModel_MAP.json\")\n",
    "\n",
    "b.display_in_notebook(js_source='web', menu='zoom', scroll_behavior='zoom',enable_editing=False)"
   ]
  },
  {
   "cell_type": "markdown",
   "metadata": {},
   "source": [
    "# Run a short simulation and check the results"
   ]
  },
  {
   "cell_type": "code",
   "execution_count": null,
   "metadata": {},
   "outputs": [],
   "source": [
    "totalTime = 150\n",
    "step = 0.0001\n",
    "numbSteps = totalTime/step\n",
    "\n",
    "tArray = np.linspace(0,totalTime,numbSteps)\n",
    "\n",
    "print(\"Running\",numbSteps,\"ODE steps.\\n\")\n",
    "\n",
    "results = integrate.odeint(solv, Dfun=solv.calcJac, y0=model.getInitVals(), \\\n",
    "                                   t=tArray, full_output=False, ixpr=True)\n",
    "\n",
    "print(\"Initial concentration: \", model.getInitVals())\n",
    "\n",
    "print(\"Final concentration at time \" + str(totalTime) + \":\", results[-1:])\n",
    "\n",
    "#print(\"\\nVariation in Metabolite Concentrations:\")\n",
    "#solv(t=0, y=results[len(results)-1,:])"
   ]
  },
  {
   "cell_type": "code",
   "execution_count": null,
   "metadata": {},
   "outputs": [],
   "source": [
    "columnsList = [met.getID() for met in model.getMetList()]\n",
    "\n",
    "res_df = pd.DataFrame(results, columns=columnsList)\n",
    "    \n",
    "t = np.arange(0,len(results),1)\n",
    "res_df[\"t\"] = t\n",
    "\n",
    "#res_df.plot(x=\"t\")\n",
    "res_df.loc[::1000].plot(x=\"t\", ylim=(0,1.2))"
   ]
  },
  {
   "cell_type": "code",
   "execution_count": null,
   "metadata": {},
   "outputs": [],
   "source": [
    "metDataDict = dict()\n",
    "metDataList = list()\n",
    "\n",
    "for metID in res_df.columns:\n",
    "    if metID == \"t\":\n",
    "        continue\n",
    "    #print(metID, float(results_df[results_df.shape[0]-1:][metID]) )\n",
    "    metDataDict[metID] = float(res_df[res_df.shape[0]-1:][metID])\n",
    "    metDataList.append(float(res_df[res_df.shape[0]-1:][metID]))\n",
    "\n",
    "print(\"\\nFinal metabolite concentrations:\\n\")\n",
    "for met,val in sorted(metDataDict.items()):\n",
    "    print(met,\":\",round(val,3),\"mM\")\n",
    "#print(metDataList)\n",
    "\n",
    "rxnDat = solv.calcFlux(t=0, y=metDataList)\n",
    "\n",
    "rxnDatDict = {}\n",
    "for i in range(len(rxnDat)):\n",
    "    rxnDatDict[ rxnIdList[i] ] = rxnDat[i]\n",
    "\n",
    "rxnDatDictNorm = rxnDatDict.copy()\n",
    "for key,val in rxnDatDictNorm.items():\n",
    "    rxnDatDictNorm[key] = (val/rxnDatDict[\"NewA\"])*100\n",
    "\n",
    "print(\"\\n---\\n\")\n",
    "print(\"Final normalized reaction fluxes:\\n\")\n",
    "for met,val in sorted(rxnDatDictNorm.items()):\n",
    "    print(met,\":\",round(val,3))"
   ]
  },
  {
   "cell_type": "code",
   "execution_count": null,
   "metadata": {},
   "outputs": [],
   "source": [
    "import escher\n",
    "import escher.urls\n",
    "import json\n",
    "import os\n",
    "from IPython.display import HTML\n",
    "\n",
    "#escher.list_available_maps()\n",
    "b = escher.Builder(map_json=\"toyModel_MAP.json\",\n",
    "                   metabolite_data = metDataDict,\n",
    "                   #reaction_data=rxnDatDict)\n",
    "                   reaction_data=rxnDatDictNorm)\n",
    "\n",
    "#reaction_scale=[{'type': 'min', 'color': '#cccccc', 'size': 4},\n",
    "#               {'type': 'mean', 'color': '#0000dd', 'size': 20},\n",
    "#               {'type': 'max', 'color': '#ff0000', 'size': 40}],\n",
    "\n",
    "b.display_in_notebook(js_source='web', menu='zoom', scroll_behavior='zoom',enable_editing=False)\n"
   ]
  },
  {
   "cell_type": "markdown",
   "metadata": {},
   "source": [
    "# Initialize Optimization Object"
   ]
  },
  {
   "cell_type": "markdown",
   "metadata": {},
   "source": [
    "## Parameters for the optimization object initialization\n",
    "\n",
    "- Model object\n",
    "    * desolver object ready to be ran\n",
    "\n",
    "- Target Group\n",
    "    * File name containing targets for optimization. Targets can be reaction fluxes or metabolite concentrations. During optimization, model parameters will be changes so that the values produced by the model match the ones provided here.\n",
    "\n",
    "- Reaction ID for Normalization\n",
    "    * The flux from this reaction will be used to normalize all other fluxes in the model when comparing them to optimization targets.\n",
    "\n",
    "- Standardization Method\n",
    "    * We offer two ways to measure the model's \"Distance to Target\", the first depends only on the model's output (the \"solution\") and the target value, while the second depends on a target-specific error value (such as a standard deviation, or another measure of variability).\n",
    "        * 1) TARGET:   ( (Solution - Target) /Target)**2\n",
    "        * 2) ERROR:   (Solution - Target)**2/Error\n",
    "\n",
    "- Loop Time\n",
    "    * Optimizations are done by repeating small simulation cycles. This argument indicates the total simulated time for each cycle.\n",
    "    \n",
    "- dT\n",
    "    * Time step used in ODE simulation.\n",
    "\n",
    "- Total Loops\n",
    "    * Total number of consecutive ODE simulations used to evaluate a proposed parameter set.\n",
    "\n",
    "- Tolerance\n",
    "    * Tolerance used when checking for convergence of ODE simulation.\n",
    "\n",
    "- Use Jacobian\n",
    "    * Whether the solver object should provide a Jacobian to the ODE integrator used in the optimization.\n",
    "    \n",
    "- Use Functor\n",
    "    * Whether the solver object should build a functor instead of the standard solver interface. (Can speed up the long optimizations but requires the use of Cython)\n",
    "\n",
    "- Use Cython\n",
    "    * Whether the solver object should compile the ODE model with Cython (can take many seconds to minutes!)\n",
    "\n",
    "- Integrator\n",
    "    * Indicates which Integrator should be used to evolve the ODE model in time. Options are:\n",
    "        * ode (SciPy)\n",
    "        * odeint (SciPy)\n",
    "        * cvodes (pycvodes)\n",
    "\n",
    "\n"
   ]
  },
  {
   "cell_type": "code",
   "execution_count": null,
   "metadata": {},
   "outputs": [],
   "source": [
    "importlib.reload(paropt)\n",
    "\n",
    "#loopTime = 15 # in minutes\n",
    "#dt = 0.0001 # 6 ms\n",
    "#totalLoops = 20 # 20 iterations of 15 min = 5 hours\n",
    "\n",
    "opt = paropt.ParOpt(model, trgGrp=\"\", normRxnID=\"\", stdMethod=\"target\", loopTime=15, dt=0.0001, totalLoops=20,\n",
    "                   tol=0.001, useJac=False, useFunctor=False, useCython=False, integrator=\"cvodes\" )\n",
    "\n",
    "\n",
    "currParVals = opt.getInitParams()\n",
    "print(currParVals)"
   ]
  },
  {
   "cell_type": "markdown",
   "metadata": {},
   "source": [
    "# Set Flux Normalization and Optimization Targets"
   ]
  },
  {
   "cell_type": "markdown",
   "metadata": {},
   "source": [
    "Normalize by measurement \"error\":\n",
    "\n",
    "\\begin{equation*}\n",
    "    O = w_i * \\sum_{i=1}^n \\left( (v_i - v_i^t)^2 \\right) / E_i\n",
    "\\end{equation*}\n",
    "\n",
    "Normalize by \"target\" value:\n",
    "\n",
    "\\begin{equation*}\n",
    "    O = w_i * \\sum_{i=1}^n \\left( (v_i - v_i^t)/v_i^t \\right)^2\n",
    "\\end{equation*}\n"
   ]
  },
  {
   "cell_type": "markdown",
   "metadata": {},
   "source": [
    "For testing purposes, we initially set the targets for optimization as the current reaction fluxes. This way, calculating the objective should give us a low \"error\" or \"cost\"."
   ]
  },
  {
   "cell_type": "code",
   "execution_count": null,
   "metadata": {},
   "outputs": [],
   "source": [
    "# Sets the Reaction ID for normalization of model fluxes\n",
    "opt.setNormRxnID(\"NewA\")\n",
    "\n",
    "# Clear targets (in case this notebook cell is re-executed)\n",
    "opt.clearTargets()\n",
    "\n",
    "# Sets optimizations targets\n",
    "# - targetType: one of [odeRxn | odeMet | fbaRxn]\n",
    "# - targetID: Reaction ID\n",
    "# - targetMult: Multiplier, so that different targets can have individual weights\n",
    "# - targetVal: The target value\n",
    "# - targetErr: The target variability. (Used with standardization method \"error\")\n",
    "# - targetNorm: Indicates whether this target should be normalized\n",
    "opt.loadTarget(\"odeRxn\", \"RemoveE\", \"1\", 53.7, 1, True)\n",
    "opt.loadTarget(\"odeRxn\", \"RemoveF\", \"1\", 46.3, 1, True)\n",
    "\n",
    "# Calculates one parameter evaluation using the initial parameter values provided with the model.\n",
    "opt.setIntegrator(\"cvodes\")\n",
    "opt.calcObjective(currParVals)"
   ]
  },
  {
   "cell_type": "markdown",
   "metadata": {},
   "source": [
    "Changing the target reaction fluxes slightly and re-calculating the objective function should give us a higher error:"
   ]
  },
  {
   "cell_type": "code",
   "execution_count": null,
   "metadata": {},
   "outputs": [],
   "source": [
    "opt.clearTargets()\n",
    "opt.loadTarget(\"odeRxn\", \"RemoveE\", \"1\", 50, 1, True)\n",
    "opt.loadTarget(\"odeRxn\", \"RemoveF\", \"1\", 50, 1, True)\n",
    "opt.calcObjective(currParVals)"
   ]
  },
  {
   "cell_type": "markdown",
   "metadata": {},
   "source": [
    "## Parameter Optimization using Differential Evolution (SciPy)\n",
    "\n",
    "\n",
    "Now we change the target reaction fluxes considerably, and use a Differential Evolution implementation from SciPy to optimize our parameters, and minimize the error (or cost) using our objective function.\n",
    "\n",
    "**May take a few of minutes...**"
   ]
  },
  {
   "cell_type": "code",
   "execution_count": null,
   "metadata": {},
   "outputs": [],
   "source": [
    "opt.clearTargets()\n",
    "\n",
    "# New reaction flux targets.\n",
    "opt.loadTarget(\"odeRxn\", \"RemoveE\", \"1\", 80, 1, True)\n",
    "opt.loadTarget(\"odeRxn\", \"RemoveF\", \"1\", 20, 1, True)\n",
    "\n",
    "# minimize output from model and solver, since we will run the ODE model several hundred times.\n",
    "model.setVerbosity(0)\n",
    "opt.setVerbose(0)\n",
    "\n",
    "# Optional tracking of optimization evolution.\n",
    "opt.setOptLogFileName(\"optimization_log_test.out\")\n",
    "\n",
    "print(\"\\nRunning optimization...\\n\")\n",
    "print(time.strftime('%X %x %Z'),\"\\n\")\n",
    "start_time = time.time()\n",
    "\n",
    "# Runs the actual differential evolution from SciPy package.\n",
    "res = opt.optimize(seed = 57321, useJac = True, maxiter=15, strategy=\"rand1bin\")\n",
    "\n",
    "print(\"\\n\",\"Optimization ended.\\n\")\n",
    "print(time.strftime('%X %x %Z'))\n",
    "elapsed_time = time.time() - start_time\n",
    "print(\"Elapsed time:\", elapsed_time/60,\"minutes\")\n",
    "\n",
    "print(\"Final result:\", res.x)\n",
    "pythonResult = res.x"
   ]
  },
  {
   "cell_type": "markdown",
   "metadata": {},
   "source": [
    "# Plot new results\n",
    "\n",
    "Now we can re-calculate the ODE model evolution over time to compare with previous behavior."
   ]
  },
  {
   "cell_type": "code",
   "execution_count": null,
   "metadata": {},
   "outputs": [],
   "source": [
    "model.applyOpt(res.x)\n",
    "\n",
    "solv = solver.ModelSolver(model)\n",
    "#solv.buildCall(verbose=1, nocheck=True) # We don't check the model here because we have checked before\n",
    "solv.buildCall(odeint=True, useJac=True, transpJac=True, verbose=1)\n",
    "\n",
    "totalTime = 150\n",
    "step = 0.0001\n",
    "numbSteps = totalTime/step\n",
    "\n",
    "tArray = np.linspace(0,totalTime,numbSteps)\n",
    "\n",
    "print(\"Running\",numbSteps,\"ODE steps.\")\n",
    "\n",
    "results,resDict = integrate.odeint(solv, Dfun=solv.calcJac, y0=model.getInitVals(), \\\n",
    "                                   t=tArray, full_output=True, ixpr=True)\n",
    "\n",
    "print(\"Initial concentration: \", model.getInitVals())\n",
    "print(\"Final concentration at time \" + str(totalTime) + \":\", results[-1:])\n",
    "\n",
    "#solv.calc(t=0, y=results[len(results)-1,:])\n",
    "\n",
    "t = np.arange(0,len(results),1)\n",
    "res_df = pd.DataFrame(results, columns=[met.getID() for met in model.getMetList()])\n",
    "res_df[\"t\"] = t\n",
    "\n",
    "#res_df.plot(x=\"t\")\n",
    "res_df.loc[::1000].plot(x=\"t\", ylim=(0,1.2))"
   ]
  },
  {
   "cell_type": "markdown",
   "metadata": {},
   "source": [
    "We can also plot the equilibrium values on our map. Notice the new equilibrium values for reactions \"RemoveE\" and \"RemoveF\"."
   ]
  },
  {
   "cell_type": "code",
   "execution_count": null,
   "metadata": {},
   "outputs": [],
   "source": [
    "metDataDict = dict()\n",
    "metDataList = list()\n",
    "for metID in res_df.columns:\n",
    "    #print(metID, float(results_df[results_df.shape[0]-1:][metID]) )\n",
    "    metDataDict[metID] = float(res_df[res_df.shape[0]-1:][metID])\n",
    "    metDataList.append(float(res_df[res_df.shape[0]-1:][metID]))\n",
    "\n",
    "rxnDat = solv.calcFlux(t=0, y=metDataList)\n",
    "\n",
    "rxnDatDict = {}\n",
    "for i in range(len(rxnDat)):\n",
    "    rxnDatDict[ rxnIdList[i] ] = rxnDat[i]\n",
    "\n",
    "rxnDatDictNorm = rxnDatDict.copy()\n",
    "for key,val in rxnDatDictNorm.items():\n",
    "    rxnDatDictNorm[key] = (val/rxnDatDict[\"NewA\"])*100\n",
    "\n",
    "b = escher.Builder(map_json=\"toyModel_MAP.json\",\n",
    "                   metabolite_data = metDataDict,\n",
    "                   reaction_data=rxnDatDictNorm)\n",
    "\n",
    "b.display_in_notebook(js_source='web', menu='zoom', scroll_behavior='zoom',enable_editing=False)\n"
   ]
  },
  {
   "cell_type": "code",
   "execution_count": null,
   "metadata": {},
   "outputs": [],
   "source": []
  }
 ],
 "metadata": {
  "kernelspec": {
   "display_name": "Python 3",
   "language": "python",
   "name": "python3"
  },
  "language_info": {
   "codemirror_mode": {
    "name": "ipython",
    "version": 3
   },
   "file_extension": ".py",
   "mimetype": "text/x-python",
   "name": "python",
   "nbconvert_exporter": "python",
   "pygments_lexer": "ipython3",
   "version": "3.6.5"
  }
 },
 "nbformat": 4,
 "nbformat_minor": 1
}
