{
 "cells": [
  {
   "cell_type": "markdown",
   "metadata": {},
   "source": [
    "# Creating a model:"
   ]
  },
  {
   "cell_type": "code",
   "execution_count": null,
   "metadata": {
    "scrolled": true
   },
   "outputs": [],
   "source": [
    "%pylab inline\n",
    "%matplotlib notebook\n",
    "\n",
    "import importlib\n",
    "import odecell\n",
    "importlib.reload(odecell)\n",
    "\n",
    "model = odecell.modelbuilder.MetabolicModel()\n",
    "print( \"Base rate for zero order reaction: \\n\", model.zeroOrder.getBaseRate() )\n",
    "print()\n",
    "print( \"Base rate for first order reaction: \\n\", model.firstOrder.getBaseRate() )\n",
    "print()\n",
    "print( \"Base rate for second order reaction: \\n\", model.secondOrder.getBaseRate() )\n",
    "print()\n",
    "print( \"Base rate for first order Michaelis-Menten reaction: \\n\", model.firstOrderMM.getBaseRate() )\n",
    "print()\n",
    "print( \"Base rate for second order Michaelis-Menten reaction: \\n\", model.secondOrderMM.getBaseRate() )\n",
    "print()\n",
    "print( \"Base rate for reversible random Bi Bi reaction: \\n\", model.randomBiBiRev.getBaseRate() )"
   ]
  },
  {
   "cell_type": "code",
   "execution_count": null,
   "metadata": {
    "scrolled": true
   },
   "outputs": [],
   "source": [
    "print( \"Final rate form: \\n\", model.firstOrderMM.getRate({\"Km\": 2.134, \"Vmax\":5.67,\"Sub1\": \"Glu\"}) )\n",
    "print()\n",
    "print( \"Final rate form: \\n\", model.firstOrderMM.getRate({\"Km\": 0.23, \"Vmax\":2.34,\"Sub1\": \"G6P\"}) )"
   ]
  },
  {
   "cell_type": "code",
   "execution_count": null,
   "metadata": {},
   "outputs": [],
   "source": [
    "model.printAvailableForms()"
   ]
  },
  {
   "cell_type": "code",
   "execution_count": null,
   "metadata": {},
   "outputs": [],
   "source": [
    "model.testOrder = odecell.modelbuilder.RateForm(\"$Sub1*$Par1/($Sub2/$Par2)\")\n",
    "model.updateAvailableForms()"
   ]
  },
  {
   "cell_type": "code",
   "execution_count": null,
   "metadata": {},
   "outputs": [],
   "source": [
    "model.printAvailableForms() #This function also updates the internal dictionary of rate forms."
   ]
  },
  {
   "cell_type": "code",
   "execution_count": null,
   "metadata": {},
   "outputs": [],
   "source": [
    "print( \"Final rate form: \\n\", model.testOrder.getRate({\"Par1\": 0.23, \"Par2\":2.34,\"Sub1\": \"G6P\",\"Sub2\":\"PEP\"}) )"
   ]
  },
  {
   "cell_type": "markdown",
   "metadata": {},
   "source": [
    "# Adding  metabolites and reactions"
   ]
  },
  {
   "cell_type": "code",
   "execution_count": null,
   "metadata": {},
   "outputs": [],
   "source": [
    "metIndx = model.addMetabolite(\"Glc_out\",\"Extracellular Glucose\", 0.0647)\n",
    "metIndx = model.addMetabolite(\"Glc_in\",\"Intracellular Glucose\", 0.1)\n",
    "metIndx = model.addMetabolite(\"PEP\",\"Phosphoenolpyruvate\", 0.01)\n",
    "metIndx = model.addMetabolite(\"G6P\",\"Glucose-6-phosphate\", 0.02)\n",
    "#model.parseMetabolites(\"metabolites.csv\")"
   ]
  },
  {
   "cell_type": "code",
   "execution_count": null,
   "metadata": {},
   "outputs": [],
   "source": [
    "rxnIndx = model.addReaction(\"PTSout\",\"secondOrderMM\",\"PTS for extracellulat glucose\")"
   ]
  },
  {
   "cell_type": "code",
   "execution_count": null,
   "metadata": {},
   "outputs": [],
   "source": [
    "print( model.getReaction(rxnIndx) )"
   ]
  },
  {
   "cell_type": "code",
   "execution_count": null,
   "metadata": {},
   "outputs": [],
   "source": [
    "#model.addSubstrate(rxnIndx, \"Sub1\", \"Glc_out\")\n",
    "model.addSubstrate(rxnIndx, \"Sub2\", \"PEP\")\n",
    "model.addParameter(rxnIndx, \"Sub1\", 0.0647)\n",
    "model.addProduct(\"PTSout\",\"Prod1\",\"G6P\")"
   ]
  },
  {
   "cell_type": "code",
   "execution_count": null,
   "metadata": {},
   "outputs": [],
   "source": [
    "paramDict = {\"Vmax\": 22, \"Ki1\":0.005, \"Km1\":0.005, \"Km2\":0.3}\n",
    "for key,val in paramDict.items():\n",
    "    model.addParameter(\"PTSout\", key, val)\n",
    "\n",
    "#model.parseParameters(\"parameters.csv\")"
   ]
  },
  {
   "cell_type": "markdown",
   "metadata": {},
   "source": [
    "### -> Checking your work"
   ]
  },
  {
   "cell_type": "code",
   "execution_count": null,
   "metadata": {
    "scrolled": false
   },
   "outputs": [],
   "source": [
    "print( model.getReaction(rxnIndx) )"
   ]
  },
  {
   "cell_type": "code",
   "execution_count": null,
   "metadata": {},
   "outputs": [],
   "source": [
    "model.prepModel()\n",
    "model.getReaction(rxnIndx).getFinalRate()"
   ]
  },
  {
   "cell_type": "markdown",
   "metadata": {},
   "source": [
    "### -> Expanding the example"
   ]
  },
  {
   "cell_type": "code",
   "execution_count": null,
   "metadata": {},
   "outputs": [],
   "source": [
    "model.addMetabolite(\"ATP\",\"Adenosine triphosphate\", 0.1)\n",
    "model.addMetabolite(\"ADP\",\"Adenosine diphosphate\", 0.1)\n",
    "\n",
    "rxnIndx = model.addReaction(\"PTSin\",\"secondOrderMM\",\"PTS for instracellular glucose\")\n",
    "model.addSubstrate(rxnIndx, \"Sub1\", \"Glc_in\")\n",
    "model.addSubstrate(rxnIndx, \"Sub2\", \"PEP\")\n",
    "model.addProduct(rxnIndx,\"Prod1\",\"G6P\")\n",
    "paramDict = {\"Vmax\": 22, \\\n",
    "                \"Ki1\":0.005, \\\n",
    "                \"Km1\":0.005, \\\n",
    "                \"Km2\":0.3}\n",
    "for key,val in paramDict.items():\n",
    "    model.addParameter(rxnIndx, key, val)\n",
    "\n",
    "rxnIndx = model.addReaction(\"GluMgl\",\"firstOrderMM\",\"Glucose transport through Mgl\")\n",
    "model.addParameter(rxnIndx, \"Sub1\", 0.0647)\n",
    "model.addProduct(rxnIndx,\"Prod1\",\"Glc_in\")\n",
    "paramDict = {\"Vmax\": 10, \\\n",
    "             \"Km\":0.0002}\n",
    "for key,val in paramDict.items():\n",
    "    model.addParameter(rxnIndx, key, val)\n",
    "\n",
    "rxnIndx = model.addReaction(\"Glk\",\"randomBiBiRev\",\"Glucokinase\")\n",
    "model.addSubstrate(rxnIndx, \"Sub1\", \"Glc_in\")\n",
    "model.addSubstrate(rxnIndx, \"Sub2\", \"ATP\")\n",
    "model.addProduct(rxnIndx,\"Prod1\",\"G6P\")\n",
    "model.addProduct(rxnIndx,\"Prod2\",\"ADP\")\n",
    "    \n",
    "paramDict = {\"Vmax\": 10, \\\n",
    "                \"Keq\":20, \\\n",
    "                \"Km1\":3.76, \\\n",
    "                \"Km2\":0.78, \\\n",
    "                \"Kmp1\":100, \\\n",
    "                \"Kmp2\":100, \\\n",
    "                \"Kd1\":100, \\\n",
    "                \"pHdep\":1 }\n",
    "for key,val in paramDict.items():\n",
    "    model.addParameter(rxnIndx, key, val)\n"
   ]
  },
  {
   "cell_type": "markdown",
   "metadata": {
    "collapsed": true
   },
   "source": [
    "# Creating a solver object"
   ]
  },
  {
   "cell_type": "code",
   "execution_count": null,
   "metadata": {},
   "outputs": [],
   "source": [
    "from scipy import integrate\n",
    "import importlib\n",
    "from odecell import modelbuilder, solver, paropt\n",
    "importlib.reload(modelbuilder)\n",
    "importlib.reload(solver)\n",
    "importlib.reload(paropt)"
   ]
  },
  {
   "cell_type": "code",
   "execution_count": null,
   "metadata": {},
   "outputs": [],
   "source": [
    "solv = solver.ModelSolver(model)"
   ]
  },
  {
   "cell_type": "code",
   "execution_count": null,
   "metadata": {
    "scrolled": false
   },
   "outputs": [],
   "source": [
    "solv.buildCall(odeint=False, verbose=2)"
   ]
  },
  {
   "cell_type": "code",
   "execution_count": null,
   "metadata": {
    "scrolled": true
   },
   "outputs": [],
   "source": [
    "integrator = integrate.ode(solv)\n",
    "integrator.set_initial_value(model.getInitVals())"
   ]
  },
  {
   "cell_type": "code",
   "execution_count": null,
   "metadata": {},
   "outputs": [],
   "source": [
    "totalTime = 0.1\n",
    "step = 0.01\n",
    "print(model.getInitVals())\n",
    "while integrator.successful() and integrator.t < totalTime:\n",
    "    print(integrator.t, integrator.integrate(integrator.t + step))"
   ]
  },
  {
   "cell_type": "markdown",
   "metadata": {
    "collapsed": true
   },
   "source": [
    "# A toy model: \n",
    "## A + B -> C"
   ]
  },
  {
   "cell_type": "code",
   "execution_count": null,
   "metadata": {},
   "outputs": [],
   "source": [
    "from scipy import integrate\n",
    "import numpy as np\n",
    "import importlib\n",
    "from odecell import modelbuilder, solver, paropt\n",
    "importlib.reload(modelbuilder)\n",
    "importlib.reload(solver)\n",
    "importlib.reload(paropt)\n",
    "\n",
    "print(\"Building the model...\\n\")\n",
    "model = modelbuilder.MetabolicModel()\n",
    "model.setVerbosity(2)\n",
    "\n",
    "# In particles\n",
    "model.addMetabolite(\"A\",\"A name\", 1000)\n",
    "model.addMetabolite(\"B\",\"B name\", 800)\n",
    "model.addMetabolite(\"C\",\"C name\", 0)\n",
    "\n",
    "rxnIndx = model.addReaction(\"Forward\",\"secondOrder\",\"Forward reaction\")\n",
    "model.addSubstrate(rxnIndx, \"Sub1\", \"A\")\n",
    "model.addSubstrate(rxnIndx, \"Sub2\", \"B\")\n",
    "model.addProduct(rxnIndx,\"Prod1\",\"C\")\n",
    "# Rate of 10^6 M/s or 0.001 molecules/second in a 1 fL volume\n",
    "paramDict = {\"K\": 0.001}\n",
    "for key,val in paramDict.items():\n",
    "    model.addParameter(rxnIndx, key, val)\n",
    "\n",
    "rxnIndx = model.addReaction(\"Reverse\",\"firstOrder\",\"Reverse reaction\")\n",
    "model.addSubstrate(rxnIndx, \"Sub1\", \"C\")\n",
    "model.addProduct(rxnIndx, \"Prod1\", \"A\")\n",
    "model.addProduct(rxnIndx,\"Prod2\",\"B\")\n",
    "# Rate of 10^8 M/s or 0.001 molecules/second in a 1 fL volume\n",
    "paramDict = {\"K\": 0.1}\n",
    "for key,val in paramDict.items():\n",
    "    model.addParameter(rxnIndx, key, val)"
   ]
  },
  {
   "cell_type": "markdown",
   "metadata": {},
   "source": [
    "## Create the solver object"
   ]
  },
  {
   "cell_type": "code",
   "execution_count": null,
   "metadata": {},
   "outputs": [],
   "source": [
    "print(\"\\nBuilding the solver...\\n\")\n",
    "    \n",
    "solv = solver.ModelSolver(model)\n",
    "solv.buildCall(odeint=False, useJac=True, verbose=2)"
   ]
  },
  {
   "cell_type": "markdown",
   "metadata": {},
   "source": [
    "## Integrate the ODE model over time\n",
    "\n",
    "We use SciPy's `ode` module to integrate our ODE model."
   ]
  },
  {
   "cell_type": "code",
   "execution_count": null,
   "metadata": {},
   "outputs": [],
   "source": [
    "integrator = integrate.ode(solv, solv.calcJac)\n",
    "integrator.set_initial_value(model.getInitVals())\n",
    "totalTime = 10\n",
    "step = 0.1\n",
    "\n",
    "print(\"Initial concentration: \", model.getInitVals())\n",
    "\n",
    "results = np.empty((0,len(model.getInitVals())), float)\n",
    "\n",
    "while integrator.successful() and integrator.t < totalTime:\n",
    "    currConcentration = integrator.integrate(integrator.t + step)\n",
    "    #print(integrator.t, currConcentration)\n",
    "    results = np.append(results, [np.asarray(currConcentration)], axis=0 )\n",
    "    \n",
    "print(\"Final concentration at time \" + str(totalTime) + \":\", currConcentration)\n"
   ]
  },
  {
   "cell_type": "markdown",
   "metadata": {},
   "source": [
    "# Plotting your results\n",
    "\n",
    "We now add a simple `matplotlib` visualization of the time evolution of the system."
   ]
  },
  {
   "cell_type": "code",
   "execution_count": null,
   "metadata": {},
   "outputs": [],
   "source": [
    "%matplotlib notebook\n",
    "\n",
    "import matplotlib\n",
    "import matplotlib.pyplot as plt"
   ]
  },
  {
   "cell_type": "code",
   "execution_count": null,
   "metadata": {},
   "outputs": [],
   "source": [
    "t = np.arange(0,len(results),1)\n",
    "plt.plot(t, results[:,0], 'r-',\\\n",
    "         t, results[:,1], 'g-',\\\n",
    "         t, results[:,2], 'b--')"
   ]
  },
  {
   "cell_type": "markdown",
   "metadata": {},
   "source": [
    "## Dynamically alter conditions of the model, and the model itself\n",
    "\n",
    "We can alternate model integration with modifications of model conditions and parameters."
   ]
  },
  {
   "cell_type": "code",
   "execution_count": null,
   "metadata": {},
   "outputs": [],
   "source": [
    "integrator = integrate.ode(solv)\n",
    "integrator.set_initial_value(model.getInitVals())\n",
    "totalTime = 10\n",
    "step = 0.1\n",
    "\n",
    "print(\"Initial concentration: \", model.getInitVals())\n",
    "\n",
    "results = np.empty((0,len(model.getInitVals())), float)\n",
    "\n",
    "##################\n",
    "## Run initial model.\n",
    "##################\n",
    "\n",
    "while integrator.successful() and integrator.t < totalTime:\n",
    "    currConcentration = integrator.integrate(integrator.t + step)\n",
    "    #print(integrator.t, currConcentration)\n",
    "    results = np.append(results, [np.asarray(currConcentration)], axis=0 )\n",
    "\n",
    "##################\n",
    "## Apply change in the model environment!\n",
    "##################\n",
    "\n",
    "# Re-initialize solver object and integrator\n",
    "solv.buildCall(odeint=False, verbose=1, cythonBuild=False)\n",
    "integrator = integrate.ode(solv)\n",
    "\n",
    "# Get the concentrations of all metabolites from the end of the initial\n",
    "#   execution, then add 300 \"units\" (copies, mM, M, etc) of metabolite \"C\".\n",
    "integrator.set_initial_value(results[-1,:] + [0,0,300])\n",
    "\n",
    "# Run for another 10 units of time. (Units of time depend on choice of units for model parameters)\n",
    "totalTime = 10\n",
    "while integrator.successful() and integrator.t < totalTime:\n",
    "    currConcentration = integrator.integrate(integrator.t + step)\n",
    "    #print(integrator.t, currConcentration)\n",
    "    results = np.append(results, [np.asarray(currConcentration)], axis=0 )\n",
    "\n",
    "##################\n",
    "## Apply change in the model itself!\n",
    "##################\n",
    "\n",
    "# Modify model parameter from 0.1 to 0.5\n",
    "model.addParameter(\"Reverse\", \"K\", 0.5)\n",
    "\n",
    "# Re-initialize solver object and integrator\n",
    "solv = solver.ModelSolver(model)\n",
    "solv.buildCall(odeint=False, verbose=1, cythonBuild=False)\n",
    "integrator = integrate.ode(solv)\n",
    "\n",
    "# Start the simulation from the final values of the previous run.\n",
    "integrator.set_initial_value(results[-1,:])\n",
    "\n",
    "# Run for another 10 units of time.\n",
    "totalTime = 10\n",
    "while integrator.successful() and integrator.t < totalTime:\n",
    "    currConcentration = integrator.integrate(integrator.t + step)\n",
    "    #print(integrator.t, currConcentration)\n",
    "    results = np.append(results, [np.asarray(currConcentration)], axis=0 )\n",
    "    \n",
    "print(\"Final concentration at time \" + str(totalTime) + \":\", currConcentration)"
   ]
  },
  {
   "cell_type": "code",
   "execution_count": null,
   "metadata": {},
   "outputs": [],
   "source": [
    "t = np.arange(0,len(results),1)\n",
    "plt.plot(t, results[:,0], 'r-',\\\n",
    "         t, results[:,1], 'g-',\\\n",
    "         t, results[:,2], 'b--')"
   ]
  },
  {
   "cell_type": "markdown",
   "metadata": {},
   "source": [
    "## Use CVODE to integrate complex models\n",
    "\n",
    "We can also use the `pycvodes` interface for the C++ Sundials integrator `cvode`."
   ]
  },
  {
   "cell_type": "code",
   "execution_count": null,
   "metadata": {},
   "outputs": [],
   "source": [
    "from pycvodes import integrate_predefined  # also: integrate_adaptive"
   ]
  },
  {
   "cell_type": "code",
   "execution_count": null,
   "metadata": {},
   "outputs": [],
   "source": [
    "# Re-initialize solver object and integrator\n",
    "model.addParameter(\"Reverse\", \"K\", 0.1)\n",
    "solv = solver.ModelSolver(model)\n",
    "solv.buildCall(odeint=False, verbose=1, useJac=True, cythonBuild=False)\n",
    "\n",
    "# Define a wrapper for the function call. CVODE wants the deltas to be written in an array passed as an argument.\n",
    "def f_wrap(t, y, dydt):\n",
    "    result = solv(t, np.asarray(y))\n",
    "    dydt[:] = result[:]\n",
    "    \n",
    "def j_wrap(t, y, Jmat, dfdt=None, fy=None):\n",
    "    result = solv.calcJac(t, np.asarray(y))\n",
    "    Jmat[:,:] = result[:,:]"
   ]
  },
  {
   "cell_type": "code",
   "execution_count": null,
   "metadata": {},
   "outputs": [],
   "source": [
    "y0 = model.getInitVals()\n",
    "dt0=1e-8; t0=0.0; atol=1e-8; rtol=1e-8\n",
    "tout = np.linspace(0, totalTime, 200)\n",
    "\n",
    "yout, info = integrate_predefined(f_wrap, j_wrap, y0, tout, atol, rtol, dt0, method='bdf')"
   ]
  },
  {
   "cell_type": "code",
   "execution_count": null,
   "metadata": {},
   "outputs": [],
   "source": [
    "t = np.arange(0,len(yout),1)\n",
    "plt.plot(t, yout[:,0], 'r-',\\\n",
    "         t, yout[:,1], 'g-',\\\n",
    "         t, yout[:,2], 'b--')"
   ]
  },
  {
   "cell_type": "markdown",
   "metadata": {},
   "source": [
    "## Use Cython to speed up integration\n",
    "\n",
    "ODECell can compile the right hand side (RHS) of the ODE system with `cython` so the code is compiled to C++, speeding up the integration time of complex models."
   ]
  },
  {
   "cell_type": "code",
   "execution_count": null,
   "metadata": {},
   "outputs": [],
   "source": [
    "# Re-initialize solver object and integrator\n",
    "model.addParameter(\"Reverse\", \"K\", 1)\n",
    "solv = solver.ModelSolver(model)\n",
    "solv.buildCall(odeint=False, verbose=1, useJac=True, cythonBuild=True)\n",
    "\n",
    "# Define a wrapper for the function call. CVODE wants the deltas to be written in an array passed as an argument.\n",
    "def f_wrap(t, y, dydt):\n",
    "    result = solv(t, np.asarray(y))\n",
    "    dydt[:] = result[:]\n",
    "    \n",
    "def j_wrap(t, y, Jmat, dfdt=None, fy=None):\n",
    "    result = solv.calcJac(t, np.asarray(y))\n",
    "    Jmat[:,:] = result[:,:]"
   ]
  },
  {
   "cell_type": "code",
   "execution_count": null,
   "metadata": {},
   "outputs": [],
   "source": [
    "y0 = model.getInitVals()\n",
    "dt0=1e-8; t0=0.0; atol=1e-8; rtol=1e-8\n",
    "tout = np.linspace(0, totalTime, 200)\n",
    "\n",
    "yout, info = integrate_predefined(f_wrap, j_wrap, y0, tout, atol, rtol, dt0, method='bdf')"
   ]
  },
  {
   "cell_type": "code",
   "execution_count": null,
   "metadata": {},
   "outputs": [],
   "source": [
    "t = np.arange(0,len(yout),1)\n",
    "plt.plot(t, yout[:,0], 'r-',\\\n",
    "         t, yout[:,1], 'g-',\\\n",
    "         t, yout[:,2], 'b--')"
   ]
  }
 ],
 "metadata": {
  "kernelspec": {
   "display_name": "Python 3",
   "language": "python",
   "name": "python3"
  },
  "language_info": {
   "codemirror_mode": {
    "name": "ipython",
    "version": 3
   },
   "file_extension": ".py",
   "mimetype": "text/x-python",
   "name": "python",
   "nbconvert_exporter": "python",
   "pygments_lexer": "ipython3",
   "version": "3.6.5"
  }
 },
 "nbformat": 4,
 "nbformat_minor": 1
}
